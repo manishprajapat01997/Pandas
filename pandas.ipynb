{
 "cells": [
  {
   "cell_type": "markdown",
   "id": "f7c15ce2-2829-4933-84ad-d97be4167caf",
   "metadata": {},
   "source": [
    "# PANDAS  Interoduction       \n"
   ]
  },
  {
   "cell_type": "markdown",
   "id": "9f592f07-fbc8-4e26-b1fc-c68d598aff73",
   "metadata": {},
   "source": [
    "# WHAT IS PANDAS ?\n",
    "    pandas is a powerful and easy-to-use open source tool built on top of python programmimg language. \n",
    "    It us useful for data analysis and manipulation .Python whit pandas is widely used in statistis ,finance,\n",
    "    Neuroscience,Economics ,web Analytics,advertising etc.\n",
    "\n",
    "    To work with data sets,clean them , and make them relevant for data Science is what Pandas do. with that,\n",
    "    easily load and read data sets in Excel,csc,json,xml,etc.  formats with pandas and work on them .\n",
    "    Easily clean the worng format data, remove duplicates,and do other tasks with pandas.\n",
    "    The python pandas library was initially developed by wes McKinner in 2008 . After 4 years in 2012 chang\n",
    "    She joined Wes as another contributor to the library\n",
    "\n",
    "    "
   ]
  },
  {
   "cell_type": "markdown",
   "id": "74ea20dd-2f17-4ed8-bd9f-47e1962a89db",
   "metadata": {},
   "source": [
    "# Pandas Features \n",
    "    The following are the features of the pandas libraty :\n",
    "    1 Analyze Data\n",
    "    2 Manipulate data\n",
    "    3 Column can be inserted and deleted from the DataFrame\n",
    "    4 Group the row/column of a DataFrame/Series\n",
    "    5 Plotting is possible\n",
    "    6 Read CSV/EXCEL/JSON\n",
    "    7 Fix the inaccurate data\n",
    "    8 clean the Data Completely \n",
    "    9 Handle Duplicates\n",
    "    "
   ]
  },
  {
   "cell_type": "markdown",
   "id": "0206ea12-efee-4578-bb84-28bf42919182",
   "metadata": {},
   "source": [
    "# Install Pandas\n",
    "pip install pandas"
   ]
  },
  {
   "cell_type": "markdown",
   "id": "afad5039-0142-4b0f-86c3-afd997d9138a",
   "metadata": {},
   "source": [
    "#  What is Pandas DataFrame ? How to create ?\n",
    "    The Pandas DataFrame is a two-Dimensional, tabular data, table with row and column.\n",
    "    The DataFrame() method is used to create a DataFrame and has the following parameters:\n",
    "    1 data : The data to be stored in the Pandas DataFrame\n",
    "    2 index: The indes values to be provided for resultant frame.\n",
    "    3 columns : Set the column labels for the resultant frame if data does not mention before\n",
    "    4 dtype : It is the datatype and only a single type is allowed.\n",
    "    5 copy : to copy the input data"
   ]
  },
  {
   "cell_type": "markdown",
   "id": "6479b86f-4a00-42d8-856a-e38f4753c990",
   "metadata": {},
   "source": [
    "# Pandas - Create a dataframe \n",
    "    1 Create a Pandas DataFrame\n",
    "    2 Access a group of rows or column in a Pandas DataFrame\n",
    "    3 Access a group of rows or columns by integer positions in Pandas DataFrame\n",
    "    4 Name your own indexes in a pandas DataFrame\n",
    "    5 Iteretea DataFrame \n"
   ]
  },
  {
   "cell_type": "markdown",
   "id": "e6039ba6-5d1a-4679-b1d5-2195b97e6e63",
   "metadata": {},
   "source": [
    "#  1 Create a Pandas DataFrame \n",
    "     To create a DataFrame in pandas , use the pandas.DataFrame() method ."
   ]
  },
  {
   "cell_type": "code",
   "execution_count": 9,
   "id": "f73e224e-f323-42df-9b04-88bc94e7ee31",
   "metadata": {},
   "outputs": [
    {
     "data": {
      "text/html": [
       "<div>\n",
       "<style scoped>\n",
       "    .dataframe tbody tr th:only-of-type {\n",
       "        vertical-align: middle;\n",
       "    }\n",
       "\n",
       "    .dataframe tbody tr th {\n",
       "        vertical-align: top;\n",
       "    }\n",
       "\n",
       "    .dataframe thead th {\n",
       "        text-align: right;\n",
       "    }\n",
       "</style>\n",
       "<table border=\"1\" class=\"dataframe\">\n",
       "  <thead>\n",
       "    <tr style=\"text-align: right;\">\n",
       "      <th></th>\n",
       "      <th>student</th>\n",
       "      <th>rank</th>\n",
       "      <th>marks</th>\n",
       "    </tr>\n",
       "  </thead>\n",
       "  <tbody>\n",
       "    <tr>\n",
       "      <th>0</th>\n",
       "      <td>amit</td>\n",
       "      <td>1</td>\n",
       "      <td>95</td>\n",
       "    </tr>\n",
       "    <tr>\n",
       "      <th>1</th>\n",
       "      <td>johm</td>\n",
       "      <td>2</td>\n",
       "      <td>70</td>\n",
       "    </tr>\n",
       "    <tr>\n",
       "      <th>2</th>\n",
       "      <td>jacob</td>\n",
       "      <td>3</td>\n",
       "      <td>80</td>\n",
       "    </tr>\n",
       "    <tr>\n",
       "      <th>3</th>\n",
       "      <td>David</td>\n",
       "      <td>4</td>\n",
       "      <td>60</td>\n",
       "    </tr>\n",
       "    <tr>\n",
       "      <th>4</th>\n",
       "      <td>Steve</td>\n",
       "      <td>5</td>\n",
       "      <td>90</td>\n",
       "    </tr>\n",
       "  </tbody>\n",
       "</table>\n",
       "</div>"
      ],
      "text/plain": [
       "  student  rank  marks\n",
       "0    amit     1     95\n",
       "1    johm     2     70\n",
       "2   jacob     3     80\n",
       "3   David     4     60\n",
       "4   Steve     5     90"
      ]
     },
     "execution_count": 9,
     "metadata": {},
     "output_type": "execute_result"
    }
   ],
   "source": [
    "import pandas as pd\n",
    "#dataset\n",
    "data={\n",
    "    \"student\":[\"amit\",\"johm\",\"jacob\",\"David\",\"Steve\"],\n",
    "    \"rank\":[1,2,3,4,5],\n",
    "    \"marks\":[95,70,80,60,90]\n",
    "    }\n",
    "df = pd.DataFrame(data)\n",
    "df\n"
   ]
  },
  {
   "cell_type": "markdown",
   "id": "f6e7688d-5b76-4200-9d9f-4b217a0c1d7a",
   "metadata": {},
   "source": [
    "# ex 2 :- Access A Group of Rows or columns in a pandas dataframe\n",
    "    The dataframe.loc is used in pandas to access a group of rows  or column in DataFrame ."
   ]
  },
  {
   "cell_type": "code",
   "execution_count": 16,
   "id": "b777bd98-7738-41f6-9fb4-7c2c43ebf3aa",
   "metadata": {},
   "outputs": [
    {
     "name": "stdout",
     "output_type": "stream",
     "text": [
      "Student records:-\n",
      "      Student  Rank  Marks\n",
      "RowA    amit     1     95\n",
      "RowB    johm     2     70\n",
      "RowC   jacob     3     80\n",
      "RowD   David     4     60\n",
      "RowE   Steve     5     90\n",
      "\n",
      "Access the value :-  amit\n",
      "\n",
      "Access the value :-  2\n"
     ]
    }
   ],
   "source": [
    "import pandas as pd \n",
    "data={\n",
    "    \"Student\":[\"amit\",\"johm\",\"jacob\",\"David\",\"Steve\"],\n",
    "    \"Rank\":[1,2,3,4,5],\n",
    "    \"Marks\":[95,70,80,60,90]\n",
    "    }\n",
    "df = pd.DataFrame(data,index=['RowA','RowB','RowC','RowD','RowE'])\n",
    "print(\"Student records:-\\n\",df)\n",
    "\n",
    "# Access the value in the student column corresponding to the RowA label\n",
    "\n",
    "print(\"\\nAccess the value :- \",df.loc[\"RowA\",\"Student\"])\n",
    "print(\"\\nAccess the value :- \",df.loc[\"RowB\",\"Rank\"])\n"
   ]
  },
  {
   "cell_type": "markdown",
   "id": "e0343247-ef48-41a9-8d15-bcad57af9c7f",
   "metadata": {},
   "source": [
    "# ex3 Access a Group of Rows or Columns by integer Positions in a PandasFrame\n",
    "    The dataframe.iloc is used to access a group of rows or column by integers. \n",
    "     we have also set column and indexes."
   ]
  },
  {
   "cell_type": "code",
   "execution_count": 22,
   "id": "6eae9662-c7dc-40b5-af8c-d75e3853cbc6",
   "metadata": {},
   "outputs": [
    {
     "name": "stdout",
     "output_type": "stream",
     "text": [
      "Student records:-\n",
      "      Student  Rank  Marks\n",
      "RowA    amit     1     95\n",
      "RowB    johm     2     70\n",
      "RowC   jacob     3     80\n",
      "RowD   David     4     60\n",
      "RowE   Steve     5     90\n",
      "\n",
      " value:-\n",
      "      Student  Rank  Marks\n",
      "RowB    johm     2     70\n",
      "RowC   jacob     3     80\n"
     ]
    }
   ],
   "source": [
    "import pandas as pd \n",
    "data={\n",
    "    \"Student\":[\"amit\",\"johm\",\"jacob\",\"David\",\"Steve\"],\n",
    "    \"Rank\":[1,2,3,4,5],\n",
    "    \"Marks\":[95,70,80,60,90]\n",
    "    }\n",
    "df = pd.DataFrame(data,index=['RowA','RowB','RowC','RowD','RowE'])\n",
    "print(\"Student records:-\\n\",df)\n",
    "\n",
    "# Access using row and column by integer position\n",
    "\n",
    "print(\"\\n value:-\\n\",df.iloc[[1,2]])"
   ]
  },
  {
   "cell_type": "markdown",
   "id": "f6dbe2aa-8324-4e4f-b88c-0675172dcf58",
   "metadata": {},
   "source": [
    "# ex 4 Name your indexex in a pandas Dataframe \n",
    "    The index argument is used to set and name your own index in a Dataframe .\n",
    "    Let us see "
   ]
  },
  {
   "cell_type": "code",
   "execution_count": 2,
   "id": "7c7a24a7-ad58-402a-a45b-e0bf84ed808b",
   "metadata": {},
   "outputs": [
    {
     "name": "stdout",
     "output_type": "stream",
     "text": [
      "Student records:-\n",
      "          Student  Rank  Marks\n",
      "Student1    amit     1     95\n",
      "Student2    johm     2     70\n",
      "Student3   jacob     3     80\n",
      "Student4   David     4     60\n",
      "Student5   Steve     5     90\n"
     ]
    }
   ],
   "source": [
    "import pandas as pd \n",
    "data={\n",
    "    \"Student\":[\"amit\",\"johm\",\"jacob\",\"David\",\"Steve\"],\n",
    "    \"Rank\":[1,2,3,4,5],\n",
    "    \"Marks\":[95,70,80,60,90]\n",
    "    }\n",
    "df = pd.DataFrame(data,index=['Student1','Student2','Student3','Student4','Student5'])\n",
    "print(\"Student records:-\\n\",df)"
   ]
  },
  {
   "cell_type": "markdown",
   "id": "11836c3d-4e74-43ee-997f-e849828e960f",
   "metadata": {},
   "source": [
    "# ex 5 Iterate a dataframe :-\n",
    "                     use for loop "
   ]
  },
  {
   "cell_type": "code",
   "execution_count": 6,
   "id": "23e8c7d9-97d8-473a-88b5-b21c996aaa28",
   "metadata": {},
   "outputs": [
    {
     "name": "stdout",
     "output_type": "stream",
     "text": [
      "Student records:-\n",
      "          Student  Rank  Marks\n",
      "Student1    amit     1     95\n",
      "Student2    johm     2     70\n",
      "Student3   jacob     3     80\n",
      "Student4   David     4     60\n",
      "Student5   Steve     5     90\n",
      "\n",
      "Displaying the column\n",
      " \n",
      "Student\n",
      "Rank\n",
      "Marks\n"
     ]
    }
   ],
   "source": [
    "import pandas as pd \n",
    "data={\n",
    "    \"Student\":[\"amit\",\"johm\",\"jacob\",\"David\",\"Steve\"],\n",
    "    \"Rank\":[1,2,3,4,5],\n",
    "    \"Marks\":[95,70,80,60,90]\n",
    "    }\n",
    "df = pd.DataFrame(data,index=['Student1','Student2','Student3','Student4','Student5'])\n",
    "print(\"Student records:-\\n\",df)\n",
    "\n",
    "print('\\nDisplaying the column\\n ')\n",
    "for col in df :\n",
    "    print(col)"
   ]
  },
  {
   "cell_type": "markdown",
   "id": "f2520a06-f4ee-465c-9e18-468e7f057ecc",
   "metadata": {},
   "source": [
    "# DataFrame - Attributes $ Methods\n",
    "    The pands Dataframe is a Two-dimensional, tabular data, that uses the DataFrame() method to\n",
    "    create a DataFrame .it also uses Different built-in attributes and methods for basic functionalities.\n",
    "    in this lesson let us see such attributes and method in python pandas with ex:-\n",
    "        1 dtype: Return the dtype in the dataframe\n",
    "        2 ndim : Return the number of dimensional of the dataframe \n",
    "        3 size : Return the number of elements in the DataFrame .\n",
    "        4 shape : Return the Dimensionality of the DataFrame the form of a tuple.\n",
    "        5 index : Return the index of the DataFrame \n",
    "        6 T : Transpose the row and column \n",
    "        7 head() : Return the first n rows."
   ]
  },
  {
   "cell_type": "markdown",
   "id": "41b292d1-a51d-41d2-9563-8be624a53d42",
   "metadata": {},
   "source": [
    "# ex 1 DTYPES\n",
    "    The pandas.DataFrame.dtypes is used to return the dtypes in the DataFrames."
   ]
  },
  {
   "cell_type": "code",
   "execution_count": 2,
   "id": "15a4bb4b-d732-4355-afe3-92bbe68f016d",
   "metadata": {},
   "outputs": [
    {
     "name": "stdout",
     "output_type": "stream",
     "text": [
      "Student records:-\n",
      "      Student  Rank  Marks\n",
      "RowA    amit     1     95\n",
      "RowB    johm     2     70\n",
      "RowC   jacob     3     80\n",
      "RowD   David     4     60\n",
      "RowE   Steve     5     90\n",
      "\n",
      "Data Types:-\n",
      " Student    object\n",
      "Rank        int64\n",
      "Marks       int64\n",
      "dtype: object\n"
     ]
    }
   ],
   "source": [
    " import pandas as pd\n",
    "data={\n",
    "    \"Student\":[\"amit\",\"johm\",\"jacob\",\"David\",\"Steve\"],\n",
    "    \"Rank\":[1,2,3,4,5],\n",
    "    \"Marks\":[95,70,80,60,90]\n",
    "    }\n",
    "df = pd.DataFrame(data,index=['RowA','RowB','RowC','RowD','RowE'])\n",
    "print(\"Student records:-\\n\",df)\n",
    "\n",
    "print(\"\\nData Types:-\\n\",df.dtypes)\n"
   ]
  },
  {
   "cell_type": "markdown",
   "id": "d207beba-be86-4c06-a047-8daae8329be6",
   "metadata": {},
   "source": [
    "# ex2 NDIM\n",
    "    the pandas.DataFrame.ndim is used to return the number of dimensions of the DataFrame"
   ]
  },
  {
   "cell_type": "code",
   "execution_count": 3,
   "id": "16ed34cd-73d3-4d35-8de5-ff60c1d2fb65",
   "metadata": {},
   "outputs": [
    {
     "name": "stdout",
     "output_type": "stream",
     "text": [
      "Student records:-\n",
      "      Student  Rank  Marks\n",
      "RowA    amit     1     95\n",
      "RowB    johm     2     70\n",
      "RowC   jacob     3     80\n",
      "RowD   David     4     60\n",
      "RowE   Steve     5     90\n",
      "\n",
      "number of dimensions-\n",
      " 2\n"
     ]
    }
   ],
   "source": [
    "import pandas as pd\n",
    "data={\n",
    "    \"Student\":[\"amit\",\"johm\",\"jacob\",\"David\",\"Steve\"],\n",
    "    \"Rank\":[1,2,3,4,5],\n",
    "    \"Marks\":[95,70,80,60,90]\n",
    "    }\n",
    "df = pd.DataFrame(data,index=['RowA','RowB','RowC','RowD','RowE'])\n",
    "print(\"Student records:-\\n\",df)\n",
    "\n",
    "print(\"\\nnumber of dimensions-\\n\",df.ndim)"
   ]
  },
  {
   "cell_type": "markdown",
   "id": "f0b8277c-31a8-4465-b9fb-d238e8d61917",
   "metadata": {},
   "source": [
    "# Ex3 SIZE \n",
    "    the pandas.DataFrame.size is used to return the number of elements in the DataFrame"
   ]
  },
  {
   "cell_type": "code",
   "execution_count": 4,
   "id": "5f3200e7-3841-4aad-a728-f951612c3a99",
   "metadata": {},
   "outputs": [
    {
     "name": "stdout",
     "output_type": "stream",
     "text": [
      "Student records:-\n",
      "      Student  Rank  Marks\n",
      "RowA    amit     1     95\n",
      "RowB    johm     2     70\n",
      "RowC   jacob     3     80\n",
      "RowD   David     4     60\n",
      "RowE   Steve     5     90\n",
      "\n",
      "number of elements-\n",
      " 15\n"
     ]
    }
   ],
   "source": [
    "import pandas as pd\n",
    "data={\n",
    "    \"Student\":[\"amit\",\"johm\",\"jacob\",\"David\",\"Steve\"],\n",
    "    \"Rank\":[1,2,3,4,5],\n",
    "    \"Marks\":[95,70,80,60,90]\n",
    "    }\n",
    "df = pd.DataFrame(data,index=['RowA','RowB','RowC','RowD','RowE'])\n",
    "print(\"Student records:-\\n\",df)\n",
    "\n",
    "print(\"\\nnumber of elements-\\n\",df.size)"
   ]
  },
  {
   "cell_type": "markdown",
   "id": "3ac4de6e-5279-4646-916c-f38ca57aa212",
   "metadata": {},
   "source": [
    "# ex4 SHAPE\n",
    "    the  pandas.DataFrame.shape is used to return the dimensionality of the DataFrame in the form of tuple."
   ]
  },
  {
   "cell_type": "code",
   "execution_count": 7,
   "id": "78cc1e51-b3e7-41ac-8031-5dfc73b2b2e8",
   "metadata": {},
   "outputs": [
    {
     "name": "stdout",
     "output_type": "stream",
     "text": [
      "Student records:-\n",
      "      Student  Rank  Marks\n",
      "RowA    amit     1     95\n",
      "RowB    johm     2     70\n",
      "RowC   jacob     3     80\n",
      "RowD   David     4     60\n",
      "RowE   Steve     5     90\n",
      "\n",
      " return the dimensionality-\n",
      " (5, 3)\n"
     ]
    }
   ],
   "source": [
    "import pandas as pd\n",
    "data={\n",
    "    \"Student\":[\"amit\",\"johm\",\"jacob\",\"David\",\"Steve\"],\n",
    "    \"Rank\":[1,2,3,4,5],\n",
    "    \"Marks\":[95,70,80,60,90]\n",
    "    }\n",
    "df = pd.DataFrame(data,index=['RowA','RowB','RowC','RowD','RowE'])\n",
    "print(\"Student records:-\\n\",df)\n",
    "\n",
    "print(\"\\n return the dimensionality-\\n\",df.shape)#(5 row,3column)"
   ]
  },
  {
   "cell_type": "markdown",
   "id": "0e5fc9ea-86e3-45c5-bdc4-ea91dd157cef",
   "metadata": {},
   "source": [
    "# ex5 Intex\n",
    "    the pandas.DataFrame.index is used to return the index of the dataFrame"
   ]
  },
  {
   "cell_type": "code",
   "execution_count": 10,
   "id": "9a92e371-c130-42ba-ac9a-ec3fa5ecdaff",
   "metadata": {},
   "outputs": [
    {
     "name": "stdout",
     "output_type": "stream",
     "text": [
      "Student records:-\n",
      "      Student  Rank  Marks\n",
      "RowA    amit     1     95\n",
      "RowB    johm     2     70\n",
      "RowC   jacob     3     80\n",
      "RowD   David     4     60\n",
      "RowE   Steve     5     90\n",
      "\n",
      " return the index-\n",
      " Index(['RowA', 'RowB', 'RowC', 'RowD', 'RowE'], dtype='object')\n"
     ]
    }
   ],
   "source": [
    "import pandas as pd\n",
    "data={\n",
    "    \"Student\":[\"amit\",\"johm\",\"jacob\",\"David\",\"Steve\"],\n",
    "    \"Rank\":[1,2,3,4,5],\n",
    "    \"Marks\":[95,70,80,60,90]\n",
    "    }\n",
    "df = pd.DataFrame(data,index=['RowA','RowB','RowC','RowD','RowE'])\n",
    "print(\"Student records:-\\n\",df)\n",
    "\n",
    "print(\"\\n return the index-\\n\",df.index)"
   ]
  },
  {
   "cell_type": "markdown",
   "id": "ec885713-5fdb-4ab9-a390-71790874f276",
   "metadata": {},
   "source": [
    "# ex6 T\n",
    "    the pandas.DataFrame.T is used to Transpose the rows and column(row change column and column change row)"
   ]
  },
  {
   "cell_type": "code",
   "execution_count": 12,
   "id": "b6bf641f-fa6a-47de-90c1-fdfaf62da073",
   "metadata": {},
   "outputs": [
    {
     "name": "stdout",
     "output_type": "stream",
     "text": [
      "Student records:-\n",
      "      Student  Rank  Marks\n",
      "RowA    amit     1     95\n",
      "RowB    johm     2     70\n",
      "RowC   jacob     3     80\n",
      "RowD   David     4     60\n",
      "RowE   Steve     5     90\n",
      "\n",
      " return the transpose-\n",
      "          RowA  RowB   RowC   RowD   RowE\n",
      "Student  amit  johm  jacob  David  Steve\n",
      "Rank        1     2      3      4      5\n",
      "Marks      95    70     80     60     90\n"
     ]
    }
   ],
   "source": [
    "import pandas as pd\n",
    "data={\n",
    "    \"Student\":[\"amit\",\"johm\",\"jacob\",\"David\",\"Steve\"],\n",
    "    \"Rank\":[1,2,3,4,5],\n",
    "    \"Marks\":[95,70,80,60,90]\n",
    "    }\n",
    "df = pd.DataFrame(data,index=['RowA','RowB','RowC','RowD','RowE'])\n",
    "print(\"Student records:-\\n\",df)\n",
    "\n",
    "print(\"\\n return the transpose-\\n\",df.T)"
   ]
  },
  {
   "cell_type": "markdown",
   "id": "959b9b4d-0419-4a6a-a8ab-e4db68224f06",
   "metadata": {},
   "source": [
    "# ex7 HEAD()\n",
    "    the pandas.DataFrame.head() is used to return the first n rows."
   ]
  },
  {
   "cell_type": "code",
   "execution_count": 21,
   "id": "de538633-081a-4c83-9977-7be210e4f570",
   "metadata": {},
   "outputs": [
    {
     "name": "stdout",
     "output_type": "stream",
     "text": [
      "Student records:-\n",
      "      Student  Rank  Marks\n",
      "RowA    amit     1     95\n",
      "RowB    johm     4     70\n",
      "RowC   jacob     3     80\n",
      "RowD   David     8     60\n",
      "RowE   Steve     5     90\n",
      "Rowf    manu     2     92\n",
      "\n",
      " first 5 rows-\n",
      "      Student  Rank  Marks\n",
      "RowA    amit     1     95\n",
      "RowB    johm     4     70\n",
      "RowC   jacob     3     80\n",
      "RowD   David     8     60\n",
      "RowE   Steve     5     90\n",
      "\n",
      " first 2 row-\n",
      "      Student  Rank  Marks\n",
      "RowA    amit     1     95\n",
      "RowB    johm     4     70\n"
     ]
    }
   ],
   "source": [
    "import pandas as pd\n",
    "data={\n",
    "    \"Student\":[\"amit\",\"johm\",\"jacob\",\"David\",\"Steve\",\"manu\"],\n",
    "    \"Rank\":[1,4,3,8,5,2],\n",
    "    \"Marks\":[95,70,80,60,90,92]\n",
    "    }\n",
    "df = pd.DataFrame(data,index=['RowA','RowB','RowC','RowD','RowE','Rowf'])\n",
    "print(\"Student records:-\\n\",df)\n",
    "\n",
    "print(\"\\n first 5 rows-\\n\",df.head())\n",
    "print(\"\\n first 2 row-\\n\",df.head(2))"
   ]
  },
  {
   "cell_type": "markdown",
   "id": "cad421f3-d6ae-4043-86f5-5fc301d043bb",
   "metadata": {},
   "source": [
    "# ex8 TAIL()\n",
    "    the pandas.DataFrame.tail() is used to return the last n(5) row"
   ]
  },
  {
   "cell_type": "code",
   "execution_count": 2,
   "id": "8e6e1ba9-eb2e-4234-90aa-d8f4a39f1374",
   "metadata": {},
   "outputs": [
    {
     "name": "stdout",
     "output_type": "stream",
     "text": [
      "Student records:-\n",
      "      Student  Rank  Marks\n",
      "RowA    amit     1     95\n",
      "RowB    johm     4     70\n",
      "RowC   jacob     3     80\n",
      "RowD   David     8     60\n",
      "RowE   Steve     5     90\n",
      "Rowf    manu     2     92\n",
      "\n",
      " last 5 rows-\n",
      "      Student  Rank  Marks\n",
      "RowB    johm     4     70\n",
      "RowC   jacob     3     80\n",
      "RowD   David     8     60\n",
      "RowE   Steve     5     90\n",
      "Rowf    manu     2     92\n",
      "\n",
      " last 2 row-\n",
      "      Student  Rank  Marks\n",
      "RowE   Steve     5     90\n",
      "Rowf    manu     2     92\n"
     ]
    }
   ],
   "source": [
    "import pandas as pd\n",
    "data={\n",
    "    \"Student\":[\"amit\",\"johm\",\"jacob\",\"David\",\"Steve\",\"manu\"],\n",
    "    \"Rank\":[1,4,3,8,5,2],\n",
    "    \"Marks\":[95,70,80,60,90,92]\n",
    "    }\n",
    "df = pd.DataFrame(data,index=['RowA','RowB','RowC','RowD','RowE','Rowf'])\n",
    "print(\"Student records:-\\n\",df)\n",
    "\n",
    "print(\"\\n last 5 rows-\\n\",df.tail())\n",
    "print(\"\\n last 2 row-\\n\",df.tail(2))"
   ]
  },
  {
   "cell_type": "code",
   "execution_count": null,
   "id": "5ceef91d-ae58-4687-bb32-7b1183ae0466",
   "metadata": {},
   "outputs": [],
   "source": []
  },
  {
   "cell_type": "markdown",
   "id": "cb1fcd8e-30ef-4f3f-b874-dc096467b742",
   "metadata": {},
   "source": [
    "#       Join Pandas DataFrame"
   ]
  },
  {
   "cell_type": "markdown",
   "id": "cca18b7c-d4dd-47d1-a980-bbd920109c75",
   "metadata": {},
   "source": [
    "Pandas DataFrames using the join() method.\n",
    "this will join the columns of the two different DataFrames."
   ]
  },
  {
   "cell_type": "code",
   "execution_count": 26,
   "id": "fbb761b2-c5d5-4c2e-8598-a654bc164975",
   "metadata": {},
   "outputs": [
    {
     "name": "stdout",
     "output_type": "stream",
     "text": [
      "dataframe1-\n",
      "     Id Student  Roll\n",
      "0  S01    amit   101\n",
      "1  S02    johm   102\n",
      "2  S03   jacob   103\n",
      "3  S04   David   104\n",
      "4  S05   Steve   105\n",
      "\n",
      "dataframe2-\n",
      "    Rank  Marks\n",
      "0     1     95\n",
      "1     4     70\n",
      "2     3     80\n",
      "3     8     60\n",
      "4     5     90\n",
      "5     2     92\n",
      "\n",
      " join dataFrame\n",
      "     Id Student  Roll  Rank  Marks\n",
      "0  S01    amit   101     1     95\n",
      "1  S02    johm   102     4     70\n",
      "2  S03   jacob   103     3     80\n",
      "3  S04   David   104     8     60\n",
      "4  S05   Steve   105     5     90\n"
     ]
    }
   ],
   "source": [
    "import pandas as pd\n",
    "data1={\n",
    "    \"Id\":[\"S01\",\"S02\",\"S03\",\"S04\",\"S05\"],\n",
    "    \"Student\":[\"amit\",\"johm\",\"jacob\",\"David\",\"Steve\"],\n",
    "    \"Roll\":[101,102,103,104,105]\n",
    "    }\n",
    "\n",
    "data2={\n",
    "    \"Rank\":[1,4,3,8,5,2],\n",
    "    \"Marks\":[95,70,80,60,90,92]\n",
    "    }\n",
    "dataframe1= pd.DataFrame(data1)\n",
    "print(\"dataframe1-\\n\",dataframe1)\n",
    "\n",
    "dataframe2= pd.DataFrame(data2)\n",
    "print(\"\\ndataframe2-\\n\",dataframe2)\n",
    "\n",
    "#joi DataFrame\n",
    "res = dataframe1.join(dataframe2)\n",
    "print(\"\\n join dataFrame\\n\",res)"
   ]
  },
  {
   "cell_type": "markdown",
   "id": "c1a12f90-f791-4069-ac81-568cf83e623a",
   "metadata": {},
   "source": [
    "#  CONCATENATE PANDAS DATAFRAME"
   ]
  },
  {
   "cell_type": "markdown",
   "id": "d36a9486-18d5-477b-b67d-a6e3dbb83296",
   "metadata": {},
   "source": [
    "pandas DataFrame in python using the concat() method .This will\n",
    "concatenate the content of the DataFrames"
   ]
  },
  {
   "cell_type": "code",
   "execution_count": 33,
   "id": "a4f5ff9b-19f4-426c-943a-c906b7ae1d99",
   "metadata": {},
   "outputs": [
    {
     "name": "stdout",
     "output_type": "stream",
     "text": [
      "dataframe1-\n",
      "            Id Student  Roll\n",
      "Student1  S01    amit   101\n",
      "Student2  S02    johm   102\n",
      "Student3  S03   jacob   103\n",
      "Student4  S04   David   104\n",
      "Student5  S05   Steve   105\n",
      "\n",
      "dataframe2-\n",
      "            Id Student  Roll\n",
      "Student6  S06     rma   106\n",
      "Student7  S07   shaym   107\n",
      "Student8  S08     jon   108\n",
      "\n",
      " res  ----\n",
      "            Id Student  Roll\n",
      "Student1  S01    amit   101\n",
      "Student2  S02    johm   102\n",
      "Student3  S03   jacob   103\n",
      "Student4  S04   David   104\n",
      "Student5  S05   Steve   105\n",
      "Student6  S06     rma   106\n",
      "Student7  S07   shaym   107\n",
      "Student8  S08     jon   108\n"
     ]
    }
   ],
   "source": [
    "import pandas as pd\n",
    "data1={\n",
    "    \"Id\":[\"S01\",\"S02\",\"S03\",\"S04\",\"S05\"],\n",
    "    \"Student\":[\"amit\",\"johm\",\"jacob\",\"David\",\"Steve\"],\n",
    "    \"Roll\":[101,102,103,104,105]\n",
    "    }\n",
    "\n",
    "data2={\n",
    "    \"Id\":[\"S06\",\"S07\",\"S08\"],\n",
    "    \"Student\":[\"rma\",\"shaym\",\"jon\"],\n",
    "    \"Roll\":[106,107,108]\n",
    "    }\n",
    "dataframe1= pd.DataFrame(data1,index=['Student1','Student2','Student3','Student4','Student5'])\n",
    "print(\"dataframe1-\\n\",dataframe1)\n",
    "\n",
    "dataframe2= pd.DataFrame(data2,index=['Student6','Student7','Student8'])\n",
    "print(\"\\ndataframe2-\\n\",dataframe2)\n",
    "\n",
    "res = pd.concat([dataframe1,dataframe2])\n",
    "print(\"\\n res  ----\\n\",res)"
   ]
  },
  {
   "cell_type": "markdown",
   "id": "eb1ca528-ecef-4a7f-91cc-b635a98f4cdf",
   "metadata": {},
   "source": [
    "<!-- What is Series ? How to Create ? -->"
   ]
  },
  {
   "cell_type": "markdown",
   "id": "5559eac8-d6e3-4216-811e-bd11440615fc",
   "metadata": {},
   "source": [
    "# What is Series ? How to Create ?"
   ]
  },
  {
   "cell_type": "raw",
   "id": "7d6015f3-acc5-464a-8ae7-c94cfb26afb6",
   "metadata": {},
   "source": [
    "Series in pandas is one-dimensional array, like a column in table . It is a labeled array that can hold data of any type.\n",
    "The Serese() method is used for this and has tha follownig parameters.\n",
    "    1 data : tha data to be stord in the pandas serese\n",
    "    2 index: The index valuse should have the same length as the data.\n",
    "    3 dtype: It is the datatype for the output Series.\n",
    "    4 name : Set the series name with the name parameter\n",
    "    5 copy : To copy the input data"
   ]
  },
  {
   "cell_type": "markdown",
   "id": "f65e3dc4-84ea-499c-a1cc-524c2fa55a8f",
   "metadata": {},
   "source": [
    "# ex1 Create a pandas series"
   ]
  },
  {
   "cell_type": "code",
   "execution_count": 2,
   "id": "e5dd15c6-fc07-40c0-ad01-1dca1133875c",
   "metadata": {},
   "outputs": [
    {
     "name": "stdout",
     "output_type": "stream",
     "text": [
      "series\n",
      " 0    10\n",
      "1    20\n",
      "2    30\n",
      "3    40\n",
      "4    50\n",
      "dtype: int64\n"
     ]
    }
   ],
   "source": [
    "# ex1 Create a pandas series\n",
    "import pandas as pd \n",
    "data =[10,20,30,40,50]\n",
    "\n",
    "# crate a series using the series () method \n",
    "s = pd.Series(data)\n",
    "print(\"series\\n\",s)\n",
    "\n"
   ]
  },
  {
   "cell_type": "markdown",
   "id": "03631566-9f32-4a12-b188-b5dea795417e",
   "metadata": {},
   "source": [
    "# ex 2 Access a Value from a pandas Series"
   ]
  },
  {
   "cell_type": "markdown",
   "id": "0e2884b2-88cc-4ce6-8f53-d3603ee7140a",
   "metadata": {},
   "source": [
    "Let a see how to access a specific value from a series .the [] is used to access a value .set the index\n",
    "of the value you want to display inside []:\n"
   ]
  },
  {
   "cell_type": "code",
   "execution_count": 6,
   "id": "0db4e1f3-18f1-4bf6-968a-38120c5746df",
   "metadata": {},
   "outputs": [
    {
     "name": "stdout",
     "output_type": "stream",
     "text": [
      "series\n",
      " 0    10\n",
      "1    20\n",
      "2    30\n",
      "3    40\n",
      "4    50\n",
      "dtype: int64\n",
      "\n",
      "value from a pandas series:- 30\n"
     ]
    }
   ],
   "source": [
    "# Access a Value from a pandas Series\n",
    "\n",
    "import pandas as pd \n",
    "data =[10,20,30,40,50]\n",
    "\n",
    "# crate a series using the series () method \n",
    "s = pd.Series(data)\n",
    "print(\"series\\n\",s)\n",
    "\n",
    "print(\"\\nvalue from a pandas series:-\",s[2])#2 index no."
   ]
  },
  {
   "cell_type": "markdown",
   "id": "8a49c054-83cb-453a-8bd8-dfd77515897d",
   "metadata": {},
   "source": [
    "# ex3 Name your index in a pandas series"
   ]
  },
  {
   "cell_type": "markdown",
   "id": "2f21cd37-f3c5-483e-bbc2-6e25385be87d",
   "metadata": {},
   "source": [
    "The index argument is used to set and name tour own indexes in a Sereies i.e. the lables can be set accordingly."
   ]
  },
  {
   "cell_type": "code",
   "execution_count": 10,
   "id": "1f6d6fc3-560c-414f-b9bc-23d95bc1b9dd",
   "metadata": {},
   "outputs": [
    {
     "name": "stdout",
     "output_type": "stream",
     "text": [
      "custom index:-\n",
      " RowA    10\n",
      "RowB    20\n",
      "RowC    30\n",
      "RowD    40\n",
      "RowE    50\n",
      "dtype: int64\n"
     ]
    }
   ],
   "source": [
    "# Name your index in a pandas Series\n",
    "\n",
    "import pandas as pd \n",
    "data =[10,20,30,40,50]\n",
    "\n",
    "# crate a series using the series () method \n",
    "s = pd.Series(data,index=[\"RowA\",\"RowB\",\"RowC\",\"RowD\",\"RowE\"])\n",
    "print(\"custom index:-\\n\",s)\n",
    "\n"
   ]
  },
  {
   "cell_type": "markdown",
   "id": "f93c44d4-ffa4-41f9-b1bc-f8bfc98dcc82",
   "metadata": {},
   "source": [
    "# ex4 Access a Value From a pandas series with labels"
   ]
  },
  {
   "cell_type": "markdown",
   "id": "b113dcd3-26d6-41cd-8e40-0e02b57240a1",
   "metadata": {},
   "source": [
    "If you have set the custom index for labels as shown above , then accessing any value from the series is \n",
    "quite easy .Refer to the label and that's it"
   ]
  },
  {
   "cell_type": "code",
   "execution_count": 15,
   "id": "0aeb5815-70e2-474e-b073-95bc17f69246",
   "metadata": {},
   "outputs": [
    {
     "name": "stdout",
     "output_type": "stream",
     "text": [
      "custom index:-\n",
      " RowA    10\n",
      "RowB    20\n",
      "RowC    30\n",
      "RowD    40\n",
      "RowE    50\n",
      "dtype: int64\n",
      "\n",
      "Series with label RowD:\n",
      " 40\n"
     ]
    }
   ],
   "source": [
    "import pandas as pd \n",
    "data =[10,20,30,40,50]\n",
    "\n",
    "# crate a series using the series () method \n",
    "s = pd.Series(data,index=[\"RowA\",\"RowB\",\"RowC\",\"RowD\",\"RowE\"])\n",
    "print(\"custom index:-\\n\",s)\n",
    "print(\"\\nSeries with label RowD:\\n\",s['RowD'])\n"
   ]
  },
  {
   "cell_type": "code",
   "execution_count": null,
   "id": "27c611df-2294-4c08-b7d8-65f7000eea6f",
   "metadata": {},
   "outputs": [],
   "source": []
  },
  {
   "cell_type": "markdown",
   "id": "c953915a-f5ec-408d-b57a-e14eb4551d6f",
   "metadata": {},
   "source": [
    "# SERIES - ATTRIBUTEs METHODS"
   ]
  },
  {
   "cell_type": "raw",
   "id": "00de4767-ec47-4299-b063-11b3b73e745c",
   "metadata": {},
   "source": [
    "The Series in pandas in one-dimensional array that uses the Series() method to create a Series,\n",
    "but it also uses different built in attribute and methods for basic functionalities.\n",
    "ex:-\n",
    "    1 dtype:- Return the dtype\n",
    "    2 ndim :- Return the Number of dimensions\n",
    "    3 size :- Return the number of elemens.\n",
    "    4 name :- Return the name of series.\n",
    "    5 hasnans :- Return True if NaNs are in the series .\n",
    "    6 index :- The index of the series.\n",
    "    7 head() : Return the first n rows.\n",
    "    8 tail() : Return the last n rows.\n",
    "    9 info() : Display the summary of the series."
   ]
  },
  {
   "cell_type": "markdown",
   "id": "ac18dd0b-c53c-4e9b-8a91-cd39276e496e",
   "metadata": {},
   "source": [
    "# Ex1 Dtype Attribute \n",
    "    The pandas.series.dtype() is used to return the datatype of the series."
   ]
  },
  {
   "cell_type": "code",
   "execution_count": 7,
   "id": "9a8de9dd-e31c-4af8-9104-043e4d18889e",
   "metadata": {},
   "outputs": [
    {
     "name": "stdout",
     "output_type": "stream",
     "text": [
      "series\n",
      " 0    10\n",
      "1    20\n",
      "2    30\n",
      "3    40\n",
      "4    50\n",
      "dtype: int64\n",
      "\n",
      "type:-  int64\n"
     ]
    }
   ],
   "source": [
    "import pandas as pd \n",
    "data =[10,20,30,40,50]\n",
    "\n",
    "# crate a series using the series () method \n",
    "s = pd.Series(data)\n",
    "print(\"series\\n\",s)\n",
    "\n",
    "print(\"\\ntype:- \",s.dtype)"
   ]
  },
  {
   "cell_type": "markdown",
   "id": "116135df-d9f5-4852-8ff7-123df330c250",
   "metadata": {},
   "source": [
    "# Ex2 NDIME Attribute \n",
    "    The pandas.series.ndim is used to return the number of dimensions of the series."
   ]
  },
  {
   "cell_type": "code",
   "execution_count": 9,
   "id": "44cb5c6b-a6bb-479a-80a8-fd6abd7115b8",
   "metadata": {},
   "outputs": [
    {
     "name": "stdout",
     "output_type": "stream",
     "text": [
      "series\n",
      " 0    10\n",
      "1    20\n",
      "2    30\n",
      "3    40\n",
      "4    50\n",
      "dtype: int64\n",
      "\n",
      "type:-  1\n"
     ]
    }
   ],
   "source": [
    "import pandas as pd \n",
    "data =[10,20,30,40,50]\n",
    "\n",
    "# crate a series using the series () method \n",
    "s = pd.Series(data)\n",
    "print(\"series\\n\",s)\n",
    "\n",
    "print(\"\\nDimensions:- \",s.ndim)"
   ]
  },
  {
   "cell_type": "markdown",
   "id": "9ee10a80-a44f-49f4-a0b0-6f32ef098db3",
   "metadata": {},
   "source": [
    "# Ex3 Size Attribute\n",
    "    The pandas.series.size is used to return the number of element in the pandas series."
   ]
  },
  {
   "cell_type": "code",
   "execution_count": 11,
   "id": "0380a92b-bafd-4a12-a798-dfd5ea2ab120",
   "metadata": {},
   "outputs": [
    {
     "name": "stdout",
     "output_type": "stream",
     "text": [
      "series\n",
      " 0    10\n",
      "1    20\n",
      "2    30\n",
      "3    40\n",
      "4    50\n",
      "dtype: int64\n",
      "\n",
      "Size:-  5\n"
     ]
    }
   ],
   "source": [
    "import pandas as pd \n",
    "data =[10,20,30,40,50]\n",
    "\n",
    "# crate a series using the series () method \n",
    "s = pd.Series(data)\n",
    "print(\"series\\n\",s)\n",
    "\n",
    "print(\"\\nSize:- \",s.size)"
   ]
  },
  {
   "cell_type": "markdown",
   "id": "f800ca4c-68fa-4337-ae00-1e934a8a2885",
   "metadata": {},
   "source": [
    "# Ex4 Name Attribute\n",
    "     Return the name of series.The pandas.series.name is used "
   ]
  },
  {
   "cell_type": "code",
   "execution_count": 15,
   "id": "831e6730-7553-408f-8329-223ae2138d9e",
   "metadata": {},
   "outputs": [
    {
     "name": "stdout",
     "output_type": "stream",
     "text": [
      "series\n",
      " 0    10\n",
      "1    20\n",
      "2    30\n",
      "3    40\n",
      "4    50\n",
      "dtype: int64\n",
      "\n",
      "Name:-  None\n",
      "\n",
      "Add Name:-  myNumberSeries\n"
     ]
    }
   ],
   "source": [
    "import pandas as pd \n",
    "data =[10,20,30,40,50]\n",
    "\n",
    "# crate a series using the series () method \n",
    "s = pd.Series(data)\n",
    "print(\"series\\n\",s)\n",
    "\n",
    "print(\"\\nName:- \",s.name)\n",
    "# the name attribute is used to set the series name \n",
    "add_name = pd.Series(data,name =\"myNumberSeries\")\n",
    "print(\"\\nAdd Name:- \",add_name.name)"
   ]
  },
  {
   "cell_type": "markdown",
   "id": "ddc5a4aa-b035-4ff1-be4c-41fc1b9427e0",
   "metadata": {},
   "source": [
    "# Ex5 HASNANS Attribute\n",
    "The pandas.series.hasnans attribute True if NaNs are in the pandas Series.\n"
   ]
  },
  {
   "cell_type": "code",
   "execution_count": 16,
   "id": "bd638e17-9acb-4a10-aa12-e795654504db",
   "metadata": {},
   "outputs": [
    {
     "name": "stdout",
     "output_type": "stream",
     "text": [
      "series\n",
      " 0    10.0\n",
      "1    20.0\n",
      "2    30.0\n",
      "3    40.0\n",
      "4    50.0\n",
      "5     NaN\n",
      "dtype: float64\n",
      "\n",
      " HASNANS:-  True\n"
     ]
    }
   ],
   "source": [
    "import pandas as pd \n",
    "import numpy as np\n",
    "data =[10,20,30,40,50,np.nan]\n",
    "\n",
    "# crate a series using the series () method \n",
    "s = pd.Series(data)\n",
    "print(\"series\\n\",s)\n",
    "\n",
    "print(\"\\n HASNANS:- \",s.hasnans)"
   ]
  },
  {
   "cell_type": "markdown",
   "id": "6cefb834-ad24-4ef4-a9b8-4e9f0d257af3",
   "metadata": {},
   "source": [
    "# Ex6 Index Attribute\n",
    "The pandas.series.index attribute is used to display the index of pandas series."
   ]
  },
  {
   "cell_type": "code",
   "execution_count": 20,
   "id": "cc01e1db-0e65-4fe9-8af1-9bb4cf333a49",
   "metadata": {},
   "outputs": [
    {
     "name": "stdout",
     "output_type": "stream",
     "text": [
      "series index\n",
      " a    10\n",
      "b    20\n",
      "c    30\n",
      "d    40\n",
      "e    50\n",
      "dtype: int64\n",
      "series index Index(['a', 'b', 'c', 'd', 'e'], dtype='object')\n"
     ]
    }
   ],
   "source": [
    "import pandas as pd \n",
    "data =[10,20,30,40,50]\n",
    "\n",
    "# crate a series using the series () method \n",
    "s = pd.Series(data,index=[\"a\",\"b\",\"c\",\"d\",\"e\"])\n",
    "print(\"series index\\n\",s)# display the series\n",
    "\n",
    "# return the index of the series\n",
    "print(\"\\nseries index :-\",s.index)\n"
   ]
  },
  {
   "cell_type": "raw",
   "id": "6cb0568e-0b65-4992-a043-459ea1af08c7",
   "metadata": {},
   "source": []
  },
  {
   "cell_type": "markdown",
   "id": "ff1da0a1-4a59-4ce2-bfc3-6f5480c07212",
   "metadata": {},
   "source": [
    "# ex7 HEAD() Method"
   ]
  },
  {
   "cell_type": "markdown",
   "id": "f4e23111-931e-402d-b7db-f7d86803ad68",
   "metadata": {},
   "source": [
    "Return the  first n rows of the pandas series, By default head()first 5 rows return . head(3) return 3 rows"
   ]
  },
  {
   "cell_type": "code",
   "execution_count": 26,
   "id": "76243119-323f-4e7e-ac1d-90e397e199fc",
   "metadata": {},
   "outputs": [
    {
     "name": "stdout",
     "output_type": "stream",
     "text": [
      "head default return first 5 rows\n",
      " a    10\n",
      "b    20\n",
      "c    30\n",
      "d    40\n",
      "e    50\n",
      "dtype: int64\n",
      "\n",
      "head first 2-rows return\n",
      " a    10\n",
      "b    20\n",
      "dtype: int64\n"
     ]
    }
   ],
   "source": [
    "import pandas as pd \n",
    "data =[10,20,30,40,50,60,70]\n",
    "\n",
    "# crate a series using the series () method \n",
    "s = pd.Series(data,index=[\"a\",\"b\",\"c\",\"d\",\"e\",\"f\",\"g\"])\n",
    "print(\"head default return first 5 rows\\n\",s.head())\n",
    "print(\"\\nhead first 2-rows return\\n\",s.head(2))"
   ]
  },
  {
   "cell_type": "markdown",
   "id": "7eb2766c-afba-4abe-b0c2-73f96b3a2cff",
   "metadata": {},
   "source": [
    "# Ex8 Tail() method \n",
    "The pandas.series.tail() method is used to return the last n rows of the pandas series."
   ]
  },
  {
   "cell_type": "code",
   "execution_count": 25,
   "id": "f74e7766-1fdd-428c-8e0c-f01384f996c4",
   "metadata": {},
   "outputs": [
    {
     "name": "stdout",
     "output_type": "stream",
     "text": [
      "tail default return last 5 rows\n",
      " c    30\n",
      "d    40\n",
      "e    50\n",
      "f    60\n",
      "g    70\n",
      "dtype: int64\n",
      "\tail last 2-rows return\n",
      " f    60\n",
      "g    70\n",
      "dtype: int64\n"
     ]
    }
   ],
   "source": [
    "import pandas as pd \n",
    "data =[10,20,30,40,50,60,70]\n",
    "\n",
    "# crate a series using the series () method \n",
    "s = pd.Series(data,index=[\"a\",\"b\",\"c\",\"d\",\"e\",\"f\",\"g\"])\n",
    "print(\"tail default return last 5 rows\\n\",s.tail())\n",
    "print(\"\\tail last 2-rows return\\n\",s.tail(2))"
   ]
  },
  {
   "cell_type": "markdown",
   "id": "f4513917-b1c9-43de-a969-d00d886f9f90",
   "metadata": {},
   "source": [
    "# Ex9 INFO Method ()\n",
    "The pandas.series.info() method is used to display the summary of the pandas series."
   ]
  },
  {
   "cell_type": "code",
   "execution_count": 29,
   "id": "f150ac12-e69f-43e2-9199-b7d8549851a6",
   "metadata": {},
   "outputs": [
    {
     "name": "stdout",
     "output_type": "stream",
     "text": [
      "series:-\n",
      " a    10\n",
      "b    20\n",
      "c    30\n",
      "d    40\n",
      "e    50\n",
      "f    60\n",
      "g    70\n",
      "Name: student name series, dtype: int64\n",
      "<class 'pandas.core.series.Series'>\n",
      "Index: 7 entries, a to g\n",
      "Series name: student name series\n",
      "Non-Null Count  Dtype\n",
      "--------------  -----\n",
      "7 non-null      int64\n",
      "dtypes: int64(1)\n",
      "memory usage: 112.0+ bytes\n",
      "\n",
      " Series Summary:-\n",
      " None\n"
     ]
    }
   ],
   "source": [
    "import pandas as pd \n",
    "data =[10,20,30,40,50,60,70]\n",
    "\n",
    "# crate a series using the series () method \n",
    "s = pd.Series(data,index=[\"a\",\"b\",\"c\",\"d\",\"e\",\"f\",\"g\"],name= \"student name series\")\n",
    "print(\"series:-\\n\",s)\n",
    "print(\"\\n Series Summary:-\\n\" ,s.info())"
   ]
  },
  {
   "cell_type": "code",
   "execution_count": null,
   "id": "abe4e607-e9e4-4550-9244-a640c7dc6d0d",
   "metadata": {},
   "outputs": [],
   "source": []
  },
  {
   "cell_type": "code",
   "execution_count": null,
   "id": "507e3d5b-62e8-4edc-9853-5b608d08aba8",
   "metadata": {},
   "outputs": [],
   "source": []
  },
  {
   "cell_type": "markdown",
   "id": "c0fc5dbe-3ece-4db8-bb26-8d8be5cc7e1d",
   "metadata": {},
   "source": [
    "# Combine Two pandas series"
   ]
  },
  {
   "cell_type": "markdown",
   "id": "2fbdaeb0-c66b-4d52-8040-dbf93031e859",
   "metadata": {},
   "source": [
    "To combine two pandas series info one in python use the combine() method It uses a specifc function for the decision, mentioned \n",
    "by the user as a parameters of the combine() method.we will see an example that will fetch the largest values from both series.\n",
    "Each element of both the series will be compared one by one."
   ]
  },
  {
   "cell_type": "code",
   "execution_count": 34,
   "id": "4f51084d-15bb-4de6-b96c-41f62516ac6e",
   "metadata": {},
   "outputs": [
    {
     "name": "stdout",
     "output_type": "stream",
     "text": [
      "series1:-\n",
      " 0     10\n",
      "1     20\n",
      "2     40\n",
      "3     80\n",
      "4    100\n",
      "dtype: int64\n",
      "\n",
      "\n",
      "series2:-\n",
      " 0    25\n",
      "1     5\n",
      "2    75\n",
      "3    95\n",
      "4    45\n",
      "dtype: int64\n",
      "\n",
      "After Combine:-\n",
      " 0     25\n",
      "1     20\n",
      "2     75\n",
      "3     95\n",
      "4    100\n",
      "dtype: int64\n"
     ]
    }
   ],
   "source": [
    "import pandas as pd\n",
    "data1=[10,20,40,80,100]\n",
    "data2=[25,5,75,95,45]\n",
    "\n",
    "series1 = pd.Series(data1)\n",
    "series2 = pd.Series(data2)\n",
    "\n",
    "print(\"series1:-\\n\",series1)\n",
    "print(\"\\n\\nseries2:-\\n\",series2)\n",
    "\n",
    "def demo(x1,x2):\n",
    "    if (x1>x2):\n",
    "        return x1\n",
    "    else:\n",
    "        return x2\n",
    "        \n",
    "# combine the series\n",
    "# The function return the largest value\n",
    "res = series1.combine(series2,demo)\n",
    "print(\"\\nAfter Combine:-\\n\",res)"
   ]
  },
  {
   "cell_type": "code",
   "execution_count": null,
   "id": "d667d042-347d-4d36-84c3-f097966cdb83",
   "metadata": {},
   "outputs": [],
   "source": []
  },
  {
   "cell_type": "markdown",
   "id": "7f66c57d-ac0e-460e-b39a-245b5b4f1dec",
   "metadata": {},
   "source": [
    "# CATEGORICAL DATA"
   ]
  },
  {
   "cell_type": "markdown",
   "id": "69946d0b-e849-46c1-b01c-2f1c761b8746",
   "metadata": {},
   "source": [
    "It is a pandas data type corresponding to categorical variables in statistics. A Categorical variable task on a limited number of possible values .\n",
    "EX are gender,blood type,country affiliation,rating etc...."
   ]
  },
  {
   "cell_type": "markdown",
   "id": "93a34fa9-d87f-467e-82ca-ad4c3929f383",
   "metadata": {},
   "source": [
    "# Ex1 Categorial Series\n",
    "    Use the dtype = \"category\" while creating a series to create a categorical Series."
   ]
  },
  {
   "cell_type": "code",
   "execution_count": 4,
   "id": "c8e8edfa-02af-437c-8c07-89da8e7a75c7",
   "metadata": {},
   "outputs": [
    {
     "name": "stdout",
     "output_type": "stream",
     "text": [
      "0    p\n",
      "1    q\n",
      "2    r\n",
      "3    s\n",
      "4    q\n",
      "dtype: category\n",
      "Categories (4, object): ['p', 'q', 'r', 's']\n"
     ]
    }
   ],
   "source": [
    "# Create Categorial Series in pandas\n",
    "import pandas as pd\n",
    "s = pd.Series([\"p\",\"q\",\"r\",\"s\",\"q\"],dtype = \"category\")\n",
    "print(s)"
   ]
  },
  {
   "cell_type": "markdown",
   "id": "7f7ed83d-6e34-45f2-8848-7708f98e7f82",
   "metadata": {},
   "source": [
    "# Ex2 categorical DataFrame \n",
    "use the dtype  = \"category\" while creating a DataFrame to create a categorical DataFrame."
   ]
  },
  {
   "cell_type": "code",
   "execution_count": 11,
   "id": "50bf1f38-847d-4966-8c95-1f709db4e5d3",
   "metadata": {},
   "outputs": [
    {
     "name": "stdout",
     "output_type": "stream",
     "text": [
      "  cat1 cat2 cat3\n",
      "0    a    p    r\n",
      "1    b    q    r\n",
      "2    c    r    r\n",
      "3    d    s    r\n",
      "\n",
      "type:-\n",
      " cat1    category\n",
      "cat2    category\n",
      "cat3    category\n",
      "dtype: object\n"
     ]
    }
   ],
   "source": [
    "import pandas as pd\n",
    "df = pd.DataFrame({\"cat1\":list(\"abcd\"),\"cat2\":list(\"pqrs\"),\"cat3\":list(\"rrrr\")},dtype=\"category\")\n",
    "print(df)\n",
    "print(\"\\ntype:-\\n\",df.dtypes)"
   ]
  },
  {
   "cell_type": "code",
   "execution_count": null,
   "id": "31dfa1ad-a404-46ab-9e38-cb240442ce11",
   "metadata": {},
   "outputs": [],
   "source": []
  },
  {
   "cell_type": "markdown",
   "id": "333f7921-bdcf-44b9-9462-bf3ef8c1d8a0",
   "metadata": {},
   "source": [
    "# CATEGORIES\n",
    "1 Append new categories\n",
    "2 Remove a categories"
   ]
  },
  {
   "cell_type": "code",
   "execution_count": 15,
   "id": "ac06dfe3-1cd1-46f0-887d-803e282be1b3",
   "metadata": {},
   "outputs": [
    {
     "name": "stdout",
     "output_type": "stream",
     "text": [
      "Series:-\n",
      " 0    p\n",
      "1    q\n",
      "2    r\n",
      "3    s\n",
      "4    q\n",
      "dtype: category\n",
      "Categories (4, object): ['p', 'q', 'r', 's']\n",
      "Updated Category:-\n",
      " 0    p\n",
      "1    q\n",
      "2    r\n",
      "3    s\n",
      "4    q\n",
      "dtype: category\n",
      "Categories (5, object): ['p', 'q', 'r', 's', 't']\n"
     ]
    }
   ],
   "source": [
    "import pandas as pd\n",
    "s = pd.Series([\"p\",\"q\",\"r\",\"s\",\"q\"],dtype = \"category\")\n",
    "# Display the series\n",
    "print(\"Series:-\\n\",s)\n",
    "\n",
    "# Append  a Category\n",
    "s = s.cat.add_categories(\"t\")\n",
    "## Displat the updated category\n",
    "print(\"Updated Category:-\\n\",s)"
   ]
  },
  {
   "cell_type": "markdown",
   "id": "a0455e49-c6cc-4cd0-a509-b0018b47bca5",
   "metadata": {},
   "source": [
    "# Remove a Category\n",
    "     Use the remove_categories() method"
   ]
  },
  {
   "cell_type": "code",
   "execution_count": 18,
   "id": "59dfe36b-7ad1-4f66-981d-2822107af8b1",
   "metadata": {},
   "outputs": [
    {
     "name": "stdout",
     "output_type": "stream",
     "text": [
      "Series:-\n",
      " 0    p\n",
      "1    q\n",
      "2    r\n",
      "3    s\n",
      "dtype: category\n",
      "Categories (4, object): ['p', 'q', 'r', 's']\n",
      "\n",
      "Updated Category:-\n",
      " 0      p\n",
      "1      q\n",
      "2      r\n",
      "3    NaN\n",
      "dtype: category\n",
      "Categories (3, object): ['p', 'q', 'r']\n"
     ]
    }
   ],
   "source": [
    "import pandas as pd\n",
    "s = pd.Series([\"p\",\"q\",\"r\",\"s\"],dtype = \"category\")\n",
    "# Display the series\n",
    "print(\"Series:-\\n\",s)\n",
    "\n",
    "# remove  a Category\n",
    "s = s.cat.remove_categories(\"s\")\n",
    "## Displat the updated category\n",
    "print(\"\\nUpdated Category:-\\n\",s)"
   ]
  },
  {
   "cell_type": "code",
   "execution_count": null,
   "id": "e9c69393-bf3a-4299-bd1c-1f6cecde297a",
   "metadata": {},
   "outputs": [],
   "source": []
  },
  {
   "cell_type": "markdown",
   "id": "2f2d5456-8004-4b04-b4df-e4fd31b11a3f",
   "metadata": {},
   "source": [
    "# Read Csv File "
   ]
  },
  {
   "cell_type": "markdown",
   "id": "dfc6abc1-fe1c-4b80-83b4-90426f546845",
   "metadata": {},
   "source": [
    "One of the major benefits of working on python is the ease to read and ccess CSV(comma separated file) . for this, python is having the Pandas library.\n",
    "In this lesson we willlearn how to read CSV in python pandas using the read_csv() method \n"
   ]
  },
  {
   "cell_type": "markdown",
   "id": "189ea295-f987-40b9-a988-994dabad50f4",
   "metadata": {},
   "source": [
    "# Ex1 Read CSV"
   ]
  },
  {
   "cell_type": "code",
   "execution_count": 5,
   "id": "efb131f6-e5e9-412f-81bb-845a7594e141",
   "metadata": {},
   "outputs": [
    {
     "data": {
      "text/html": [
       "<div>\n",
       "<style scoped>\n",
       "    .dataframe tbody tr th:only-of-type {\n",
       "        vertical-align: middle;\n",
       "    }\n",
       "\n",
       "    .dataframe tbody tr th {\n",
       "        vertical-align: top;\n",
       "    }\n",
       "\n",
       "    .dataframe thead th {\n",
       "        text-align: right;\n",
       "    }\n",
       "</style>\n",
       "<table border=\"1\" class=\"dataframe\">\n",
       "  <thead>\n",
       "    <tr style=\"text-align: right;\">\n",
       "      <th></th>\n",
       "      <th>Student ID</th>\n",
       "      <th>First Name</th>\n",
       "      <th>Last Name</th>\n",
       "      <th>Roll no</th>\n",
       "      <th>Mobile NO</th>\n",
       "      <th>Marks</th>\n",
       "    </tr>\n",
       "  </thead>\n",
       "  <tbody>\n",
       "    <tr>\n",
       "      <th>0</th>\n",
       "      <td>101</td>\n",
       "      <td>manish</td>\n",
       "      <td>Kumar</td>\n",
       "      <td>21</td>\n",
       "      <td>85746924</td>\n",
       "      <td>85</td>\n",
       "    </tr>\n",
       "    <tr>\n",
       "      <th>1</th>\n",
       "      <td>102</td>\n",
       "      <td>Ram</td>\n",
       "      <td>Singh</td>\n",
       "      <td>22</td>\n",
       "      <td>6352147895</td>\n",
       "      <td>84</td>\n",
       "    </tr>\n",
       "    <tr>\n",
       "      <th>2</th>\n",
       "      <td>103</td>\n",
       "      <td>pankaj</td>\n",
       "      <td>parajap</td>\n",
       "      <td>23</td>\n",
       "      <td>5463215789</td>\n",
       "      <td>89</td>\n",
       "    </tr>\n",
       "    <tr>\n",
       "      <th>3</th>\n",
       "      <td>104</td>\n",
       "      <td>sonu</td>\n",
       "      <td>kumar</td>\n",
       "      <td>24</td>\n",
       "      <td>4758126532</td>\n",
       "      <td>69</td>\n",
       "    </tr>\n",
       "    <tr>\n",
       "      <th>4</th>\n",
       "      <td>105</td>\n",
       "      <td>kamal</td>\n",
       "      <td>rathod</td>\n",
       "      <td>25</td>\n",
       "      <td>6985721365</td>\n",
       "      <td>75</td>\n",
       "    </tr>\n",
       "    <tr>\n",
       "      <th>5</th>\n",
       "      <td>106</td>\n",
       "      <td>faisal</td>\n",
       "      <td>khan</td>\n",
       "      <td>26</td>\n",
       "      <td>4563218742</td>\n",
       "      <td>77</td>\n",
       "    </tr>\n",
       "  </tbody>\n",
       "</table>\n",
       "</div>"
      ],
      "text/plain": [
       "   Student ID First Name Last Name  Roll no   Mobile NO  Marks\n",
       "0         101    manish      Kumar       21    85746924     85\n",
       "1         102        Ram     Singh       22  6352147895     84\n",
       "2         103     pankaj   parajap       23  5463215789     89\n",
       "3         104       sonu     kumar       24  4758126532     69\n",
       "4         105      kamal    rathod       25  6985721365     75\n",
       "5         106     faisal      khan       26  4563218742     77"
      ]
     },
     "execution_count": 5,
     "metadata": {},
     "output_type": "execute_result"
    }
   ],
   "source": [
    "# Read a csv in pandas \n",
    "import pandas as pd \n",
    "\n",
    "#  Import csv file \n",
    "# file = C:\\Users\\manish kumar\\OneDrive\\Desktop\\data file\\customers-5.csv\n",
    "file = \"C:\\\\Users\\\\manish kumar\\\\OneDrive\\\\Desktop\\\\data file\\\\student.csv\"\n",
    "\n",
    "df = pd.read_csv(file)\n",
    "df"
   ]
  },
  {
   "cell_type": "code",
   "execution_count": null,
   "id": "0938aec0-6f8c-4d68-94da-c0cc22db034b",
   "metadata": {},
   "outputs": [],
   "source": []
  },
  {
   "cell_type": "markdown",
   "id": "9b5e3eae-e14a-4e54-bcdc-2485856a90a2",
   "metadata": {},
   "source": [
    "# EX2 Display the top n Rows of a DataFrame"
   ]
  },
  {
   "cell_type": "markdown",
   "id": "5692bed3-3915-4972-8c4a-7e7f64506e42",
   "metadata": {},
   "source": [
    "The head() method will display the first n rows of a DataFrame.The default returned are 5.\n"
   ]
  },
  {
   "cell_type": "code",
   "execution_count": 9,
   "id": "845b000f-202c-4fe1-9eb6-6a3ae657d0bf",
   "metadata": {},
   "outputs": [
    {
     "name": "stdout",
     "output_type": "stream",
     "text": [
      "DataFrame:-\n",
      "    Student ID First Name Last Name  Roll no   Mobile NO  Marks\n",
      "0         101    manish      Kumar       21    85746924     85\n",
      "1         102        Ram     Singh       22  6352147895     84\n",
      "2         103     pankaj   parajap       23  5463215789     89\n",
      "3         104       sonu     kumar       24  4758126532     69\n",
      "4         105      kamal    rathod       25  6985721365     75\n",
      "5         106     faisal      khan       26  4563218742     77\n",
      "\n",
      " Top 5 rows:-\n",
      "    Student ID First Name Last Name  Roll no   Mobile NO  Marks\n",
      "0         101    manish      Kumar       21    85746924     85\n",
      "1         102        Ram     Singh       22  6352147895     84\n",
      "2         103     pankaj   parajap       23  5463215789     89\n",
      "3         104       sonu     kumar       24  4758126532     69\n",
      "4         105      kamal    rathod       25  6985721365     75\n",
      "\n",
      " Top 2 rows:-\n",
      "    Student ID First Name Last Name  Roll no   Mobile NO  Marks\n",
      "0         101    manish      Kumar       21    85746924     85\n",
      "1         102        Ram     Singh       22  6352147895     84\n"
     ]
    }
   ],
   "source": [
    "import pandas as pd \n",
    "\n",
    "#  Import csv file \n",
    "# file = C:\\Users\\manish kumar\\OneDrive\\Desktop\\data file\\customers-5.csv\n",
    "file = \"C:\\\\Users\\\\manish kumar\\\\OneDrive\\\\Desktop\\\\data file\\\\student.csv\"\n",
    "\n",
    "df = pd.read_csv(file)\n",
    "print(\"DataFrame:-\\n\",df)\n",
    "\n",
    "# Display the top n rows\n",
    "print(\"\\n Top 5 rows:-\\n\",df.head())\n",
    "\n",
    "# Display the top 2 rows\n",
    "print(\"\\n Top 2 rows:-\\n\",df.head(2))"
   ]
  },
  {
   "cell_type": "code",
   "execution_count": null,
   "id": "19ca79db-b469-42bf-8f17-e52d63c3eb44",
   "metadata": {},
   "outputs": [],
   "source": []
  },
  {
   "cell_type": "markdown",
   "id": "38ef90f5-59f7-4866-8a21-279209720829",
   "metadata": {},
   "source": [
    "# EX3 Display the last n Rows of a DataFrame"
   ]
  },
  {
   "cell_type": "markdown",
   "id": "0746df7c-4f88-49a9-b277-8ad40e8c6a4d",
   "metadata": {},
   "source": [
    "The tail() method will display the last n rows of a DataFrame.The default returned are 5."
   ]
  },
  {
   "cell_type": "code",
   "execution_count": 8,
   "id": "624c801c-ab26-4d5e-8ebf-49b2e8aa81ed",
   "metadata": {},
   "outputs": [
    {
     "name": "stdout",
     "output_type": "stream",
     "text": [
      "DataFrame:-\n",
      "    Student ID First Name Last Name  Roll no   Mobile NO  Marks\n",
      "0         101    manish      Kumar       21    85746924     85\n",
      "1         102        Ram     Singh       22  6352147895     84\n",
      "2         103     pankaj   parajap       23  5463215789     89\n",
      "3         104       sonu     kumar       24  4758126532     69\n",
      "4         105      kamal    rathod       25  6985721365     75\n",
      "5         106     faisal      khan       26  4563218742     77\n",
      "\n",
      " last 5 rows:-\n",
      "    Student ID First Name Last Name  Roll no   Mobile NO  Marks\n",
      "1         102        Ram     Singh       22  6352147895     84\n",
      "2         103     pankaj   parajap       23  5463215789     89\n",
      "3         104       sonu     kumar       24  4758126532     69\n",
      "4         105      kamal    rathod       25  6985721365     75\n",
      "5         106     faisal      khan       26  4563218742     77\n",
      "\n",
      " last 2 rows:-\n",
      "    Student ID First Name Last Name  Roll no   Mobile NO  Marks\n",
      "4         105      kamal    rathod       25  6985721365     75\n",
      "5         106     faisal      khan       26  4563218742     77\n"
     ]
    }
   ],
   "source": [
    "\n",
    "import pandas as pd \n",
    "\n",
    "\n",
    "#  Import csv file \n",
    "# file = C:\\Users\\manish kumar\\OneDrive\\Desktop\\data file\\customers-5.csv\n",
    "file = \"C:\\\\Users\\\\manish kumar\\\\OneDrive\\\\Desktop\\\\data file\\\\student.csv\"\n",
    "\n",
    "df = pd.read_csv(file)\n",
    "print(\"DataFrame:-\\n\",df)\n",
    "\n",
    "# Display the last n rows\n",
    "print(\"\\n last 5 rows:-\\n\",df.tail())\n",
    "\n",
    "# Display the last 2 rows\n",
    "print(\"\\n last 2 rows:-\\n\",df.tail(2))"
   ]
  },
  {
   "cell_type": "code",
   "execution_count": null,
   "id": "5f8f62f3-d278-4807-bd5f-f40112553686",
   "metadata": {},
   "outputs": [],
   "source": []
  },
  {
   "cell_type": "markdown",
   "id": "42d1959b-0250-49aa-9bb7-5961ac164de9",
   "metadata": {},
   "source": [
    "# READ EXCEL"
   ]
  },
  {
   "cell_type": "markdown",
   "id": "4aff6c47-bd61-4694-a08f-21c0c97c8f5d",
   "metadata": {},
   "source": [
    "we use the pandas read_excel() method . first install the openpyxl package "
   ]
  },
  {
   "cell_type": "markdown",
   "id": "e1e704a8-1993-49d1-abb4-e46500e18f5b",
   "metadata": {},
   "source": [
    "Ex Read EXCEL"
   ]
  },
  {
   "cell_type": "raw",
   "id": "f3c14eaa-8ed5-4dde-8078-f62a4ca50d9c",
   "metadata": {},
   "source": [
    "1 Read an Excel File.\n",
    "2 Display the top n rows of the DataFrame.\n",
    "3 Display the n rows of the DataFram\n",
    "\n",
    "same as read_csv example---------"
   ]
  },
  {
   "cell_type": "code",
   "execution_count": null,
   "id": "9ebb5106-e660-46ef-b2f1-f03d54b48bf6",
   "metadata": {},
   "outputs": [],
   "source": [
    "from pathlib import Path\n",
    "import pandas as pd\n",
    "file = Path(r\"C:\\Users\\manish kumar\\OneDrive\\Desktop\\data file\\student.xlsx\")\n",
    "df = pd.read_excel(file, engine='openpyxl')\n",
    "print(\"DataFrame:-\\n\", df)\n",
    "## same as read_csv file ---------"
   ]
  },
  {
   "cell_type": "code",
   "execution_count": null,
   "id": "41549b1a-d606-4790-ac3a-00d85a345720",
   "metadata": {},
   "outputs": [],
   "source": []
  },
  {
   "cell_type": "markdown",
   "id": "bda98781-1862-4f37-81a8-2f66c77ca3fb",
   "metadata": {},
   "source": [
    "# PANDAS INDEXING"
   ]
  },
  {
   "cell_type": "markdown",
   "id": "273b8de1-4b12-4cdf-93c5-9fccd351f64a",
   "metadata": {},
   "source": [
    "Indexing means selecting specific row and columns of data from DataFrame . A DataFrame includes column ,index and data."
   ]
  },
  {
   "cell_type": "raw",
   "id": "275ffbd0-15e6-4030-baff-542560560786",
   "metadata": {},
   "source": [
    "1 indexing in pandas using the indexing operator[]\n",
    "2 indexing in pandas using loc[]\n",
    "3 indexing in pandas using iloc[]"
   ]
  },
  {
   "cell_type": "markdown",
   "id": "fe6aba31-7e87-486d-8797-b7d534bb5fe9",
   "metadata": {},
   "source": [
    "# Ex1 using indexing operator[] "
   ]
  },
  {
   "cell_type": "code",
   "execution_count": 30,
   "id": "845fc1a9-2972-4ac3-b8fd-672d580857d2",
   "metadata": {},
   "outputs": [
    {
     "name": "stdout",
     "output_type": "stream",
     "text": [
      "DataFrame:-\n",
      "            First Name Last Name  Roll no   Mobile NO  Marks\n",
      "Student ID                                                 \n",
      "101           manish      Kumar       21    85746924     85\n",
      "102               Ram     Singh       22  6352147895     84\n",
      "103            pankaj   parajap       23  5463215789     89\n",
      "104              sonu     kumar       24  4758126532     69\n",
      "105             kamal    rathod       25  6985721365     75\n",
      "106            faisal      khan       26  4563218742     77\n",
      "\n",
      " Retrive marks \n",
      " Student ID\n",
      "101    85\n",
      "102    84\n",
      "103    89\n",
      "104    69\n",
      "105    75\n",
      "106    77\n",
      "Name: Marks, dtype: int64\n"
     ]
    }
   ],
   "source": [
    "#use indexing operator[] to retrieve records.\n",
    "import pandas as pd\n",
    "\n",
    "#  Import csv file \n",
    "file = \"C:\\\\Users\\\\manish kumar\\\\OneDrive\\\\Desktop\\\\data file\\\\student.csv\"\n",
    "\n",
    "df = pd.read_csv(file,index_col=\"Student ID\")\n",
    "print(\"DataFrame:-\\n\",df)\n",
    "\n",
    "##Use  the indexing operation \n",
    "res = df[\"Marks\"]\n",
    "print(\"\\n Retrive marks \\n\",res)"
   ]
  },
  {
   "cell_type": "markdown",
   "id": "931f7d8c-fd3c-440c-b4a7-c735acc05b56",
   "metadata": {},
   "source": [
    "# Ex2 indexing using loc[]"
   ]
  },
  {
   "cell_type": "code",
   "execution_count": 43,
   "id": "7da7d657-5f0d-4045-a70f-04192004c2ee",
   "metadata": {},
   "outputs": [
    {
     "name": "stdout",
     "output_type": "stream",
     "text": [
      "DataFrame:-\n",
      "            First Name Last Name  Roll no   Mobile NO  Marks\n",
      "Student ID                                                 \n",
      "101           manish      Kumar       21    85746924     85\n",
      "102               Ram     Singh       22  6352147895     84\n",
      "103            pankaj   parajap       23  5463215789     89\n",
      "104              sonu     kumar       24  4758126532     69\n",
      "105             kamal    rathod       25  6985721365     75\n",
      "106            faisal      khan       26  4563218742     77\n",
      "\n",
      "Retrieved record for 'Ram':\n",
      "            First Name Last Name  Roll no   Mobile NO  Marks\n",
      "Student ID                                                 \n",
      "102               Ram     Singh       22  6352147895     84\n",
      "\n",
      "Retrieved record for Student ID 102 (Ram):\n",
      " First Name           Ram\n",
      "Last Name          Singh\n",
      "Roll no               22\n",
      "Mobile NO     6352147895\n",
      "Marks                 84\n",
      "Name: 102, dtype: object\n",
      "\n",
      "Retrieved record for Roll no 25 :\n",
      " Student ID           105\n",
      "First Name         kamal\n",
      "Last Name         rathod\n",
      "Mobile NO     6985721365\n",
      "Marks                 75\n",
      "Name: 25, dtype: object\n"
     ]
    }
   ],
   "source": [
    "# Retrieve a single row\n",
    "import pandas as pd\n",
    "\n",
    "#  Import csv file \n",
    "file = \"C:\\\\Users\\\\manish kumar\\\\OneDrive\\\\Desktop\\\\data file\\\\student.csv\"\n",
    "\n",
    "df = pd.read_csv(file,index_col=\"Student ID\")\n",
    "print(\"DataFrame:-\\n\",df)\n",
    "\n",
    "##retrive single row \n",
    "#  retrieve the row for \"Ram\", you need to use the condition that filters based on the \"First Name\" column, not the index.\n",
    "# Retrieve a row where the 'First Name' is 'Ram'\n",
    "res = df[df['First Name'] == 'Ram']\n",
    "\n",
    "# Print the retrieved row for 'Ram'\n",
    "print(\"\\nRetrieved record for 'Ram':\\n\", res)\n",
    "\n",
    "# Use loc[] with the Student ID to retrieve the record for 102  b\\c index_col=\"Student ID\"\n",
    "res = df.loc[102]\n",
    "\n",
    "# Print the retrieved row for 'Ram'\n",
    "print(\"\\nRetrieved record for Student ID 102 (Ram):\\n\", res)\n",
    "\n",
    "\n",
    "df1 = pd.read_csv(file,index_col=\"Roll no\")\n",
    "# Use loc[] with the Roll no to retrieve the record for 102  b\\c index_col=\"Roll No\"\n",
    "res1 = df1.loc[25]\n",
    "\n",
    "# Print the retrieved row for '25'\n",
    "print(\"\\nRetrieved record for Roll no 25 :\\n\", res1)"
   ]
  },
  {
   "cell_type": "code",
   "execution_count": null,
   "id": "a9af7be0-83a0-4e0f-9017-312fe4c131fd",
   "metadata": {},
   "outputs": [],
   "source": []
  },
  {
   "cell_type": "markdown",
   "id": "3e8f3e5e-ce0d-44c5-8f0c-1c35bd647705",
   "metadata": {},
   "source": [
    "# ex3 indexing using iloc[]\n",
    "Retrive the row and column by position, use the iloc[]"
   ]
  },
  {
   "cell_type": "code",
   "execution_count": 1,
   "id": "eb7571a1-67d1-4d5f-8017-11e552c11312",
   "metadata": {},
   "outputs": [
    {
     "name": "stdout",
     "output_type": "stream",
     "text": [
      "DataFrame:-\n",
      "            First Name Last Name  Roll no   Mobile NO  Marks\n",
      "Student ID                                                 \n",
      "101           manish      Kumar       21    85746924     85\n",
      "102               Ram     Singh       22  6352147895     84\n",
      "103            pankaj   parajap       23  5463215789     89\n",
      "104              sonu     kumar       24  4758126532     69\n",
      "105             kamal    rathod       25  6985721365     75\n",
      "106            faisal      khan       26  4563218742     77\n",
      "\n",
      "Retrieved record 2 index :- \n",
      " First Name        pankaj\n",
      "Last Name        parajap\n",
      "Roll no               23\n",
      "Mobile NO     5463215789\n",
      "Marks                 89\n",
      "Name: 103, dtype: object\n",
      "\n",
      "Retrieved record 5 index:- \n",
      " First Name        faisal\n",
      "Last Name           khan\n",
      "Roll no               26\n",
      "Mobile NO     4563218742\n",
      "Marks                 77\n",
      "Name: 106, dtype: object\n"
     ]
    }
   ],
   "source": [
    "# Retrieve a single row\n",
    "import pandas as pd\n",
    "\n",
    "#  Import csv file \n",
    "file = \"C:\\\\Users\\\\manish kumar\\\\OneDrive\\\\Desktop\\\\data file\\\\student.csv\"\n",
    "\n",
    "df = pd.read_csv(file,index_col=\"Student ID\")\n",
    "print(\"DataFrame:-\\n\",df)\n",
    "\n",
    "##retrieve  row  3 record\n",
    "\n",
    "res = df.iloc[2]\n",
    "\n",
    "# Print the retrieved row for \n",
    "print(\"\\nRetrieved record 2 index :- \\n\", res)\n",
    "\n",
    "res = df.iloc[5]\n",
    "\n",
    "# Print the retrieved row for \n",
    "print(\"\\nRetrieved record 5 index:- \\n\", res)"
   ]
  },
  {
   "cell_type": "code",
   "execution_count": null,
   "id": "9e92a7a8-bd4f-46dd-aa47-6320913cd935",
   "metadata": {},
   "outputs": [],
   "source": []
  },
  {
   "cell_type": "markdown",
   "id": "b377fc39-9370-40f1-828f-8ee968319bcd",
   "metadata": {},
   "source": [
    "# Select Multiple Columns"
   ]
  },
  {
   "cell_type": "markdown",
   "id": "90d7a97f-a182-4190-887f-611d60322af6",
   "metadata": {},
   "source": [
    "In python easily select multiple columns in a pandas DataFrame . Select more than one column without using built-in function .\n",
    "more than two columns can aslo be selected in a range ."
   ]
  },
  {
   "cell_type": "markdown",
   "id": "cdb7840e-ff23-4190-9572-cb1e6afaa819",
   "metadata": {},
   "source": [
    "# 1Ex Select Two columns \n",
    "To select  two specific columns from a pandas DataFrame, mention the column name Do not mention the column names you dont want to display "
   ]
  },
  {
   "cell_type": "markdown",
   "id": "51c23233-a5b8-4065-b340-43e6e1fa6853",
   "metadata": {},
   "source": [
    "dataframe [[\"Rank\",\"Marks\"]]\n"
   ]
  },
  {
   "cell_type": "code",
   "execution_count": 5,
   "id": "beb794ad-a832-4c9e-8a6d-29b24d78cb12",
   "metadata": {},
   "outputs": [
    {
     "name": "stdout",
     "output_type": "stream",
     "text": [
      "Student Record \n",
      "     Id Student  Roll  Marks\n",
      "0  S01    amit   101     90\n",
      "1  S02    johm   102     89\n",
      "2  S03   jacob   103     92\n",
      "3  S04   David   104     95\n",
      "4  S05   Steve   105     86\n",
      "\n",
      "\n",
      "selecting only two column \n",
      "    Roll  Marks\n",
      "0   101     90\n",
      "1   102     89\n",
      "2   103     92\n",
      "3   104     95\n",
      "4   105     86\n"
     ]
    }
   ],
   "source": [
    "import pandas as pd\n",
    "data={\n",
    "    \"Id\":[\"S01\",\"S02\",\"S03\",\"S04\",\"S05\"],\n",
    "    \"Student\":[\"amit\",\"johm\",\"jacob\",\"David\",\"Steve\"],\n",
    "    \"Roll\":[101,102,103,104,105],\n",
    "    \"Marks\":[90,89,92,95,86]\n",
    "    }\n",
    "dataframe  = pd.DataFrame(data)\n",
    "print(\"Student Record \\n\",dataframe)\n",
    "print(\"\\n\\nselecting only two column \\n\",dataframe[[\"Roll\",\"Marks\"]])"
   ]
  },
  {
   "cell_type": "code",
   "execution_count": null,
   "id": "913f7687-36be-4e58-b50e-e91b4c190fe1",
   "metadata": {},
   "outputs": [],
   "source": []
  },
  {
   "cell_type": "markdown",
   "id": "481ce780-8df2-4df6-a0ee-e11cd93f6731",
   "metadata": {},
   "source": [
    "# Ex2 Multipale columns in a range\n"
   ]
  },
  {
   "cell_type": "markdown",
   "id": "674c4b78-a32d-4e61-891c-5a3723488dda",
   "metadata": {},
   "source": [
    "In a python DataFrame , to select more than one column in a range , mention the index number in a range separated by column. the followinf selects columns 3rd to 5th "
   ]
  },
  {
   "cell_type": "markdown",
   "id": "faad7e10-e922-4d34-9bf7-2c35bf08c72f",
   "metadata": {},
   "source": [
    "syntex :-dataframe[dataframe.columns[2:5]]"
   ]
  },
  {
   "cell_type": "code",
   "execution_count": 16,
   "id": "31b1c78a-c64a-4c78-bd25-8627c1aa5e05",
   "metadata": {},
   "outputs": [
    {
     "name": "stdout",
     "output_type": "stream",
     "text": [
      "Student Record \n",
      "     Id Student  Roll  Marks\n",
      "0  S01    amit   101     90\n",
      "1  S02    johm   102     89\n",
      "2  S03   jacob   103     92\n",
      "3  S04   David   104     95\n",
      "4  S05   Steve   105     86\n",
      "\n",
      "\n",
      "Selecting columns in a range :\n",
      "    Roll  Marks\n",
      "0   101     90\n",
      "1   102     89\n",
      "2   103     92\n",
      "3   104     95\n",
      "4   105     86\n"
     ]
    }
   ],
   "source": [
    "import pandas as pd\n",
    "data={\n",
    "    \"Id\":[\"S01\",\"S02\",\"S03\",\"S04\",\"S05\"],\n",
    "    \"Student\":[\"amit\",\"johm\",\"jacob\",\"David\",\"Steve\"],\n",
    "    \"Roll\":[101,102,103,104,105],\n",
    "    \"Marks\":[90,89,92,95,86]\n",
    "    }\n",
    "dataframe  = pd.DataFrame(data)\n",
    "print(\"Student Record \\n\",dataframe)\n",
    "print(\"\\n\\nSelecting columns in a range :\\n\", dataframe[dataframe.columns[2:4]])"
   ]
  },
  {
   "cell_type": "code",
   "execution_count": null,
   "id": "5455da20-c028-4be2-b22d-bc74fcc6ea3c",
   "metadata": {},
   "outputs": [],
   "source": []
  },
  {
   "cell_type": "markdown",
   "id": "4d4f9ab1-3126-45f6-9bdc-7b63fe95a752",
   "metadata": {},
   "source": [
    "# Add a new column"
   ]
  },
  {
   "cell_type": "raw",
   "id": "4f044e19-aec2-47fb-bc31-9fcfef63d5f6",
   "metadata": {},
   "source": [
    "we will insert a column to an already created DataFrame .\n",
    "1 Add a new column using the insert() method (set the location)\n",
    "2 Assing a new column using the assign() method (place at the end)\n"
   ]
  },
  {
   "cell_type": "markdown",
   "id": "6110ac8b-6f69-48a1-9673-6708cc513e3e",
   "metadata": {},
   "source": [
    "# ex1 Add a new column using  the insert()"
   ]
  },
  {
   "cell_type": "code",
   "execution_count": 24,
   "id": "9dcd73dd-3926-490c-9e9a-3ebf585af34d",
   "metadata": {},
   "outputs": [
    {
     "name": "stdout",
     "output_type": "stream",
     "text": [
      "Student Record \n",
      "     Id Student  Marks\n",
      "0  S01    amit     90\n",
      "1  S02    johm     89\n",
      "2  S03   jacob     92\n",
      "3  S04   David     95\n",
      "4  S05   Steve     86\n",
      "\n",
      "Updated DataFrame:\n",
      "     Id Student  Roll  Marks\n",
      "0  S01    amit   101     90\n",
      "1  S02    johm   102     89\n",
      "2  S03   jacob   103     92\n",
      "3  S04   David   104     95\n",
      "4  S05   Steve   105     86\n"
     ]
    }
   ],
   "source": [
    "import pandas as pd\n",
    "\n",
    "# Create the DataFrame\n",
    "data = {\n",
    "    \"Id\": [\"S01\", \"S02\", \"S03\", \"S04\", \"S05\"],\n",
    "    \"Student\": [\"amit\", \"johm\", \"jacob\", \"David\", \"Steve\"],\n",
    "    \"Marks\": [90, 89, 92, 95, 86]\n",
    "}\n",
    "\n",
    "dataframe = pd.DataFrame(data)\n",
    "print(\"Student Record \\n\", dataframe)\n",
    "\n",
    "# Insert a new column at position 2\n",
    "dataframe.insert(2, \"Roll\", [101, 102, 103, 104, 105])\n",
    "\n",
    "# Now print the updated DataFrame\n",
    "print(\"\\nUpdated DataFrame:\\n\", dataframe)\n"
   ]
  },
  {
   "cell_type": "code",
   "execution_count": null,
   "id": "bbf49204-7af5-444b-8e00-b41f24eba140",
   "metadata": {},
   "outputs": [],
   "source": []
  },
  {
   "cell_type": "markdown",
   "id": "543f156a-9f58-4857-b1c4-ebac83ba5dd8",
   "metadata": {},
   "source": [
    "# ex2 Add a New Column using Assing()\n",
    "It adds a new column to the end .set the new column with the column name as a parameter of the assing() method "
   ]
  },
  {
   "cell_type": "code",
   "execution_count": 31,
   "id": "8ad1b254-61ae-48dd-81cd-c7c10d00587a",
   "metadata": {},
   "outputs": [
    {
     "name": "stdout",
     "output_type": "stream",
     "text": [
      "Student Record \n",
      "     Id Student  Marks\n",
      "0  S01    amit     90\n",
      "1  S02    johm     89\n",
      "2  S03   jacob     92\n",
      "3  S04   David     95\n",
      "4  S05   Steve     86\n",
      "\n",
      "Updated DataFrame:\n",
      "     Id Student  Marks  Roll\n",
      "0  S01    amit     90   101\n",
      "1  S02    johm     89   102\n",
      "2  S03   jacob     92   103\n",
      "3  S04   David     95   104\n",
      "4  S05   Steve     86   105\n"
     ]
    }
   ],
   "source": [
    "import pandas as pd\n",
    "\n",
    "# Create the DataFrame\n",
    "data = {\n",
    "    \"Id\": [\"S01\", \"S02\", \"S03\", \"S04\", \"S05\"],\n",
    "    \"Student\": [\"amit\", \"johm\", \"jacob\", \"David\", \"Steve\"],\n",
    "    \"Marks\": [90, 89, 92, 95, 86]\n",
    "}\n",
    "\n",
    "dataframe = pd.DataFrame(data)\n",
    "print(\"Student Record \\n\", dataframe)\n",
    "\n",
    "# Insert a new column at position 2\n",
    "res=dataframe.assign(Roll= [101, 102, 103, 104, 105])\n",
    "\n",
    "# Now print the updated DataFrame\n",
    "print(\"\\nUpdated DataFrame:\\n\", res)"
   ]
  },
  {
   "cell_type": "code",
   "execution_count": null,
   "id": "cbc71aba-6b2c-434c-981c-4d4014fb0586",
   "metadata": {},
   "outputs": [],
   "source": []
  },
  {
   "cell_type": "code",
   "execution_count": null,
   "id": "e7349b55-133f-4063-8c40-6eade49bdd9b",
   "metadata": {},
   "outputs": [],
   "source": []
  },
  {
   "cell_type": "markdown",
   "id": "59e007ef-d96d-44d5-be98-e06e0b05b156",
   "metadata": {},
   "source": [
    "# DELETE ROWS/COLUMN"
   ]
  },
  {
   "cell_type": "markdown",
   "id": "cd0d0dfe-d4de-447a-a4ab-be1446f342aa",
   "metadata": {},
   "source": [
    "THE  drop() method is used in python to delete row/columns in a pandas used to remove a particular row or column. usder the parameters\n",
    " of the drop() method , mention the column you want to delete with the asis.\n"
   ]
  },
  {
   "cell_type": "markdown",
   "id": "395aecf4-891f-4ab9-b1a6-8f940f3a768d",
   "metadata": {},
   "source": [
    "# Ex1 Drop column"
   ]
  },
  {
   "cell_type": "raw",
   "id": "a27be19e-40bf-485b-83b5-05cdcbd106c8",
   "metadata": {},
   "source": [
    "The columns are dropped using the column names .The axis is set to 1 since we want to drop a column.\n",
    "the columns axis can also be used for the drope() method to remove the specified columns:\n",
    "axis = 'columns'\n",
    "or\n",
    "axis = 1\n",
    "\n"
   ]
  },
  {
   "cell_type": "code",
   "execution_count": 4,
   "id": "797897c4-59ed-4d1c-89ae-0c4ddea1eda7",
   "metadata": {},
   "outputs": [
    {
     "name": "stdout",
     "output_type": "stream",
     "text": [
      "Student Record \n",
      "     Id Student  Marks  Roll\n",
      "0  S01    amit     90   101\n",
      "1  S02    johm     89   102\n",
      "2  S03   jacob     92   103\n",
      "3  S04   David     95   104\n",
      "4  S05   Steve     86   105\n",
      "\n",
      "drop column marks:\n",
      "     Id Student  Roll\n",
      "0  S01    amit   101\n",
      "1  S02    johm   102\n",
      "2  S03   jacob   103\n",
      "3  S04   David   104\n",
      "4  S05   Steve   105\n"
     ]
    }
   ],
   "source": [
    "import pandas as pd\n",
    "\n",
    "# Create the DataFrame\n",
    "data = {\n",
    "    \"Id\": [\"S01\", \"S02\", \"S03\", \"S04\", \"S05\"],\n",
    "    \"Student\": [\"amit\", \"johm\", \"jacob\", \"David\", \"Steve\"],\n",
    "    \"Marks\": [90, 89, 92, 95, 86],\n",
    "    \"Roll\": [101, 102, 103, 104, 105]\n",
    "}\n",
    "\n",
    "dataframe = pd.DataFrame(data)\n",
    "print(\"Student Record \\n\", dataframe)\n",
    "\n",
    "res = dataframe.drop(\"Marks\",axis = \"columns\")\n",
    "print(\"\\ndrop column marks:\\n\",res)\n"
   ]
  },
  {
   "cell_type": "code",
   "execution_count": null,
   "id": "095e4b93-c3fc-4f35-9bc4-0d73f2bb56b0",
   "metadata": {},
   "outputs": [],
   "source": []
  },
  {
   "cell_type": "markdown",
   "id": "fe8998c9-5052-480c-872f-7203af032824",
   "metadata": {},
   "source": [
    "# Ex2 Drop Rows Using DROP()"
   ]
  },
  {
   "cell_type": "raw",
   "id": "5524779b-e253-44e1-9b84-97b8d5c8dfec",
   "metadata": {},
   "source": [
    "The rows are dropped using the index label set as a parameter of drop method. the rows of that particular label are remove.set\n",
    "the axis to () sincs we want to drop a row . the rows asiz i.e. index can also be used for \n",
    "the drop() method to remove the specified row:\n",
    "\n",
    "axis = \"index\"\n",
    "or \n",
    "axis = 0"
   ]
  },
  {
   "cell_type": "code",
   "execution_count": 9,
   "id": "b30e8a15-2dc3-437f-b6f1-5b7fe712f4eb",
   "metadata": {},
   "outputs": [
    {
     "name": "stdout",
     "output_type": "stream",
     "text": [
      "Student Record \n",
      "     Id Student  Marks  Roll\n",
      "0  S01    amit     90   101\n",
      "1  S02    johm     89   102\n",
      "2  S03   jacob     92   103\n",
      "3  S04   David     95   104\n",
      "4  S05   Steve     86   105\n",
      "\n",
      "drop Rows marks:\n",
      "     Id Student  Marks  Roll\n",
      "0  S01    amit     90   101\n",
      "1  S02    johm     89   102\n",
      "3  S04   David     95   104\n",
      "4  S05   Steve     86   105\n"
     ]
    }
   ],
   "source": [
    "import pandas as pd\n",
    "\n",
    "# Create the DataFrame\n",
    "data = {\n",
    "    \"Id\": [\"S01\", \"S02\", \"S03\", \"S04\", \"S05\"],\n",
    "    \"Student\": [\"amit\", \"johm\", \"jacob\", \"David\", \"Steve\"],\n",
    "    \"Marks\": [90, 89, 92, 95, 86],\n",
    "    \"Roll\": [101, 102, 103, 104, 105]\n",
    "}\n",
    "\n",
    "dataframe = pd.DataFrame(data)\n",
    "print(\"Student Record \\n\", dataframe)\n",
    "\n",
    "res = dataframe.drop(2, axis='index')\n",
    "print(\"\\ndrop Rows marks:\\n\",res)"
   ]
  },
  {
   "cell_type": "code",
   "execution_count": null,
   "id": "7e06c1fc-59ff-4037-9e59-96943ff0e296",
   "metadata": {},
   "outputs": [],
   "source": []
  },
  {
   "cell_type": "markdown",
   "id": "a2e8cf09-8845-4590-b1fe-72920a353a8f",
   "metadata": {},
   "source": [
    " # Pandas Iterate over Row and columns "
   ]
  },
  {
   "cell_type": "markdown",
   "id": "9a6e3b76-9202-42df-be9c-9ea0d7c8b52c",
   "metadata": {},
   "source": [
    "# Ex1 Iterate Over Rows\n"
   ]
  },
  {
   "cell_type": "raw",
   "id": "e61bec70-f798-4107-9b12-babd864610ba",
   "metadata": {},
   "source": [
    "1 iterrows(): To iterate over the rows\n",
    "2 itertuples(): To iterate over the rows"
   ]
  },
  {
   "cell_type": "code",
   "execution_count": 11,
   "id": "ba50617f-6c0b-4f66-bca1-e39082acbf44",
   "metadata": {},
   "outputs": [
    {
     "name": "stdout",
     "output_type": "stream",
     "text": [
      "Student Record \n",
      "     Id Student  Marks  Roll\n",
      "0  S01    amit     90   101\n",
      "1  S02    johm     89   102\n",
      "2  S03   jacob     92   103\n",
      "3  S04   David     95   104\n",
      "4  S05   Steve     86   105\n",
      "\n",
      " Iterate over rows\n",
      "\n",
      "(0, Id          S01\n",
      "Student    amit\n",
      "Marks        90\n",
      "Roll        101\n",
      "Name: 0, dtype: object)\n",
      "(1, Id          S02\n",
      "Student    johm\n",
      "Marks        89\n",
      "Roll        102\n",
      "Name: 1, dtype: object)\n",
      "(2, Id           S03\n",
      "Student    jacob\n",
      "Marks         92\n",
      "Roll         103\n",
      "Name: 2, dtype: object)\n",
      "(3, Id           S04\n",
      "Student    David\n",
      "Marks         95\n",
      "Roll         104\n",
      "Name: 3, dtype: object)\n",
      "(4, Id           S05\n",
      "Student    Steve\n",
      "Marks         86\n",
      "Roll         105\n",
      "Name: 4, dtype: object)\n"
     ]
    }
   ],
   "source": [
    "# ex1a :-iterrows() to iterate over rows using iterrows() method\n",
    "import pandas as pd\n",
    "\n",
    "# Create the DataFrame\n",
    "data = {\n",
    "    \"Id\": [\"S01\", \"S02\", \"S03\", \"S04\", \"S05\"],\n",
    "    \"Student\": [\"amit\", \"johm\", \"jacob\", \"David\", \"Steve\"],\n",
    "    \"Marks\": [90, 89, 92, 95, 86],\n",
    "    \"Roll\": [101, 102, 103, 104, 105]\n",
    "}\n",
    "\n",
    "dataframe = pd.DataFrame(data)\n",
    "print(\"Student Record \\n\", dataframe)\n",
    "\n",
    "# Iterate over rows\n",
    "print(\"\\n Iterate over rows\\n\")\n",
    "\n",
    "for row in dataframe.iterrows():\n",
    "    print(row)"
   ]
  },
  {
   "cell_type": "markdown",
   "id": "67e743b0-a6d6-44a8-a18f-7b57eeb93fa1",
   "metadata": {},
   "source": [
    "# Ex2 ITERTUPLES() to iterete over rows"
   ]
  },
  {
   "cell_type": "markdown",
   "id": "5ab63073-7b55-40ad-b0f2-dcdae84a184e",
   "metadata": {},
   "source": [
    "to iterete over rows,use the pandas itertuples() method .here each row is returned as a python Tuple object."
   ]
  },
  {
   "cell_type": "code",
   "execution_count": null,
   "id": "71ae81f5-4f6f-4e27-958d-ce90b09a2795",
   "metadata": {},
   "outputs": [],
   "source": []
  },
  {
   "cell_type": "code",
   "execution_count": 14,
   "id": "92559a4c-ec9d-4e02-b8e4-800bc4ff1e65",
   "metadata": {},
   "outputs": [
    {
     "name": "stdout",
     "output_type": "stream",
     "text": [
      "Student Record \n",
      "     Id Student  Marks  Roll\n",
      "0  S01    amit     90   101\n",
      "1  S02    johm     89   102\n",
      "2  S03   jacob     92   103\n",
      "3  S04   David     95   104\n",
      "4  S05   Steve     86   105\n",
      "\n",
      " Display records as a Tuple object \n",
      "\n",
      "Pandas(Index=0, Id='S01', Student='amit', Marks=90, Roll=101)\n",
      "Pandas(Index=1, Id='S02', Student='johm', Marks=89, Roll=102)\n",
      "Pandas(Index=2, Id='S03', Student='jacob', Marks=92, Roll=103)\n",
      "Pandas(Index=3, Id='S04', Student='David', Marks=95, Roll=104)\n",
      "Pandas(Index=4, Id='S05', Student='Steve', Marks=86, Roll=105)\n"
     ]
    }
   ],
   "source": [
    "# -itertuples() to iterate over rows using itertuples() method\n",
    "import pandas as pd\n",
    "\n",
    "# Create the DataFrame\n",
    "data = {\n",
    "    \"Id\": [\"S01\", \"S02\", \"S03\", \"S04\", \"S05\"],\n",
    "    \"Student\": [\"amit\", \"johm\", \"jacob\", \"David\", \"Steve\"],\n",
    "    \"Marks\": [90, 89, 92, 95, 86],\n",
    "    \"Roll\": [101, 102, 103, 104, 105]\n",
    "}\n",
    "\n",
    "dataframe = pd.DataFrame(data)\n",
    "print(\"Student Record \\n\", dataframe)\n",
    "\n",
    "# Iterate over rows\n",
    "print(\"\\n Display records as a Tuple object \\n\")\n",
    "\n",
    "for row in dataframe.itertuples():\n",
    "    print(row)"
   ]
  },
  {
   "cell_type": "code",
   "execution_count": null,
   "id": "41f7751f-215c-4e93-bc8f-be14c7fa71db",
   "metadata": {},
   "outputs": [],
   "source": []
  },
  {
   "cell_type": "markdown",
   "id": "7d9b8294-e08b-4f83-9ac3-b1d6d0c26498",
   "metadata": {},
   "source": [
    "# Pandas - ITES to iterate over columns "
   ]
  },
  {
   "cell_type": "markdown",
   "id": "f6e0a0fb-875c-4133-9a66-6e97ae2a3040",
   "metadata": {},
   "source": [
    "To iterate over columns , use the items() method .\n"
   ]
  },
  {
   "cell_type": "code",
   "execution_count": 18,
   "id": "c6bb99ff-5c16-459d-a144-713275882108",
   "metadata": {},
   "outputs": [
    {
     "name": "stdout",
     "output_type": "stream",
     "text": [
      "Student Record \n",
      "     Id Student  Marks  Roll\n",
      "0  S01    amit     90   101\n",
      "1  S02    johm     89   102\n",
      "2  S03   jacob     92   103\n",
      "3  S04   David     95   104\n",
      "4  S05   Steve     86   105\n",
      "\n",
      " iterate  over columns in a DataFrame  \n",
      "\n",
      "a---- Id\n",
      "b-- 0    S01\n",
      "1    S02\n",
      "2    S03\n",
      "3    S04\n",
      "4    S05\n",
      "Name: Id, dtype: object\n",
      "a---- Student\n",
      "b-- 0     amit\n",
      "1     johm\n",
      "2    jacob\n",
      "3    David\n",
      "4    Steve\n",
      "Name: Student, dtype: object\n",
      "a---- Marks\n",
      "b-- 0    90\n",
      "1    89\n",
      "2    92\n",
      "3    95\n",
      "4    86\n",
      "Name: Marks, dtype: int64\n",
      "a---- Roll\n",
      "b-- 0    101\n",
      "1    102\n",
      "2    103\n",
      "3    104\n",
      "4    105\n",
      "Name: Roll, dtype: int64\n"
     ]
    }
   ],
   "source": [
    "\n",
    "# Create the DataFrame\n",
    "data = {\n",
    "    \"Id\": [\"S01\", \"S02\", \"S03\", \"S04\", \"S05\"],\n",
    "    \"Student\": [\"amit\", \"johm\", \"jacob\", \"David\", \"Steve\"],\n",
    "    \"Marks\": [90, 89, 92, 95, 86],\n",
    "    \"Roll\": [101, 102, 103, 104, 105]\n",
    "}\n",
    "\n",
    "dataframe = pd.DataFrame(data)\n",
    "print(\"Student Record \\n\", dataframe)\n",
    "\n",
    "# Iterate over rows\n",
    "print(\"\\n iterate  over columns in a DataFrame  \\n\")\n",
    "\n",
    "for a,b in dataframe.items():\n",
    "    print(\"a----\",a)\n",
    "    print(\"b--\",b)"
   ]
  },
  {
   "cell_type": "code",
   "execution_count": null,
   "id": "e6c77547-0176-4975-af21-c28d55990865",
   "metadata": {},
   "outputs": [],
   "source": []
  },
  {
   "cell_type": "code",
   "execution_count": null,
   "id": "f524ebef-9ed2-453a-a56e-532f6af0c050",
   "metadata": {},
   "outputs": [],
   "source": []
  },
  {
   "cell_type": "markdown",
   "id": "8b923c19-0ebb-47f1-b4b5-9c6eaeae79f3",
   "metadata": {},
   "source": [
    "# SORTING"
   ]
  },
  {
   "cell_type": "markdown",
   "id": "3214d190-42cd-4bbc-ab76-e89b148f1cc4",
   "metadata": {},
   "source": [
    "TO sort the data in pandas , we can use various method.using the sort_values() method"
   ]
  },
  {
   "cell_type": "markdown",
   "id": "fd7fe41e-c6b5-4e6b-ae92-13cc7acbfe27",
   "metadata": {},
   "source": [
    "1-  To sort the dataframe use the sort_values() method . the default is ascending . \n",
    "    Therefore, you don't need to mention any value in the parameter for ascending sort.\n",
    "    we will sort by value i.e. the by parameter will be set to the columns name by which we need to sort the DataFrame in ascendinf order.\n"
   ]
  },
  {
   "cell_type": "code",
   "execution_count": 24,
   "id": "f1c044d8-7355-4963-b4f3-1ddca649a79a",
   "metadata": {},
   "outputs": [
    {
     "name": "stdout",
     "output_type": "stream",
     "text": [
      "Student Record \n",
      "      Student  Marks  Roll\n",
      "RowA    amit     90   101\n",
      "RowB    johm     89   105\n",
      "RowC   jacob     92   104\n",
      "RowD   David     95   103\n",
      "RowE   Steve     86   102\n",
      "\n",
      " sort in ascending order  \n",
      "      Student  Marks  Roll\n",
      "RowA    amit     90   101\n",
      "RowE   Steve     86   102\n",
      "RowD   David     95   103\n",
      "RowC   jacob     92   104\n",
      "RowB    johm     89   105\n"
     ]
    }
   ],
   "source": [
    "import pandas as pd\n",
    "data = {\n",
    "   \n",
    "    \"Student\": [\"amit\", \"johm\", \"jacob\", \"David\", \"Steve\"],\n",
    "    \"Marks\": [90, 89, 92, 95, 86],\n",
    "    \"Roll\": [101, 105 ,104, 103, 102]\n",
    "}\n",
    "\n",
    "dataframe = pd.DataFrame(data,index = [\"RowA\",\"RowB\",\"RowC\",\"RowD\",\"RowE\"])\n",
    "print(\"Student Record \\n\", dataframe)\n",
    "\n",
    "# Sort the Data in ascending order (default)\n",
    "print(\"\\n sort in ascending order  \\n\",dataframe.sort_values(by=[\"Roll\"]))"
   ]
  },
  {
   "cell_type": "code",
   "execution_count": null,
   "id": "3c8036bf-ae83-48e1-b6c6-1c512ecb2e26",
   "metadata": {},
   "outputs": [],
   "source": []
  },
  {
   "cell_type": "markdown",
   "id": "155b566c-1a46-4112-b1cb-164580e1434a",
   "metadata": {},
   "source": [
    "# Sort the DataFrame in Descending order"
   ]
  },
  {
   "cell_type": "markdown",
   "id": "798842f1-bf18-4cea-b674-46e18c53cf37",
   "metadata": {},
   "source": [
    "To sort the DataFrame in descending order use the sort_values() method .set the ascending parameter of the method to False for descending sort.\n",
    "we will sort by value i.e. the by parameter will be set to the columns name by which we need to sort the DataFrame in descending order."
   ]
  },
  {
   "cell_type": "code",
   "execution_count": 25,
   "id": "f6dbea1b-735d-49ad-ac67-48889843560e",
   "metadata": {},
   "outputs": [
    {
     "name": "stdout",
     "output_type": "stream",
     "text": [
      "Student Record \n",
      "      Student  Marks  Roll\n",
      "RowA    amit     90   101\n",
      "RowB    johm     89   105\n",
      "RowC   jacob     92   104\n",
      "RowD   David     95   103\n",
      "RowE   Steve     86   102\n",
      "\n",
      " sort in ascending order  \n",
      "      Student  Marks  Roll\n",
      "RowB    johm     89   105\n",
      "RowC   jacob     92   104\n",
      "RowD   David     95   103\n",
      "RowE   Steve     86   102\n",
      "RowA    amit     90   101\n"
     ]
    }
   ],
   "source": [
    "data = {\n",
    "   \n",
    "    \"Student\": [\"amit\", \"johm\", \"jacob\", \"David\", \"Steve\"],\n",
    "    \"Marks\": [90, 89, 92, 95, 86],\n",
    "    \"Roll\": [101, 105 ,104, 103, 102]\n",
    "}\n",
    "\n",
    "dataframe = pd.DataFrame(data,index = [\"RowA\",\"RowB\",\"RowC\",\"RowD\",\"RowE\"])\n",
    "print(\"Student Record \\n\", dataframe)\n",
    "\n",
    "# Sort the Data in descending order (default)\n",
    "print(\"\\n sort in ascending order  \\n\",dataframe.sort_values(by=[\"Roll\"],ascending = False))"
   ]
  },
  {
   "cell_type": "code",
   "execution_count": null,
   "id": "ee91383e-8b63-4ce7-abb7-0edfd49e494c",
   "metadata": {},
   "outputs": [],
   "source": []
  },
  {
   "cell_type": "markdown",
   "id": "90d2d63d-b0f3-4e62-bcce-e95391a85adf",
   "metadata": {},
   "source": [
    "# HANDELING DUPLICATES"
   ]
  },
  {
   "cell_type": "raw",
   "id": "941b34bb-d3fd-48ec-a5d9-fac73ac1a7d5",
   "metadata": {},
   "source": [
    "python  pandas means to find and remove duplicates from row in a DataFrame or Series ,\n",
    "1 duplicated(): Find Duplicates and \n",
    "2 drop_duplicates() Remove Duplicate"
   ]
  },
  {
   "cell_type": "markdown",
   "id": "ac58201a-8579-4c4c-84c8-60bcce600000",
   "metadata": {},
   "source": [
    "# Find Duplicates /Remove duplicates"
   ]
  },
  {
   "cell_type": "markdown",
   "id": "a291ee42-a9e8-4de5-b799-592fb783c2ec",
   "metadata": {},
   "source": [
    "Use duplicated() method .It returns a Series with True and False values i.e for duplicate rows True is returned.\n",
    "To remove duplicate from row in pandas use drop_duplicates() method "
   ]
  },
  {
   "cell_type": "code",
   "execution_count": 8,
   "id": "fe95c6f9-3bf5-4c14-b170-fbe2b444a70e",
   "metadata": {},
   "outputs": [
    {
     "name": "stdout",
     "output_type": "stream",
     "text": [
      "Student Record \n",
      "      Student  Marks  Roll\n",
      "RowA    amit     90   101\n",
      "RowB    johm     89   105\n",
      "RowC   jacob     92   104\n",
      "RowD   David     95   103\n",
      "RowE   Steve     86   102\n",
      "RowF    johm     89   105\n",
      "\n",
      " Describing Duplicates:\n",
      " RowA    False\n",
      "RowB    False\n",
      "RowC    False\n",
      "RowD    False\n",
      "RowE    False\n",
      "RowF     True\n",
      "dtype: bool\n",
      "\n",
      " remove Duplicates:\n",
      "      Student  Marks  Roll\n",
      "RowA    amit     90   101\n",
      "RowB    johm     89   105\n",
      "RowC   jacob     92   104\n",
      "RowD   David     95   103\n",
      "RowE   Steve     86   102\n"
     ]
    }
   ],
   "source": [
    "import pandas as pd \n",
    "data = {\n",
    "   \n",
    "    \"Student\": [\"amit\", \"johm\", \"jacob\", \"David\", \"Steve\",\"johm\"],\n",
    "    \"Marks\": [90, 89, 92, 95, 86,89],\n",
    "    \"Roll\": [101, 105 ,104, 103, 102,105]\n",
    "}\n",
    "\n",
    "dataframe = pd.DataFrame(data,index = [\"RowA\",\"RowB\",\"RowC\",\"RowD\",\"RowE\",\"RowF\"])\n",
    "print(\"Student Record \\n\", dataframe)\n",
    "\n",
    "##Find duplicates \n",
    "res = dataframe.duplicated()\n",
    "print(\"\\n Describing Duplicates:\\n\",res)\n",
    "\n",
    "remove_du = dataframe.drop_duplicates()\n",
    "print(\"\\n remove Duplicates:\\n\",remove_du)\n"
   ]
  },
  {
   "cell_type": "code",
   "execution_count": null,
   "id": "4478a1d0-e7bc-4c88-9ec9-83fe7163cb9d",
   "metadata": {},
   "outputs": [],
   "source": []
  },
  {
   "cell_type": "markdown",
   "id": "02eb3d2c-4816-4fdc-9c70-de3d43135cf9",
   "metadata": {},
   "source": [
    "## Clean The Data"
   ]
  },
  {
   "cell_type": "markdown",
   "id": "4264dc6b-1509-490b-8c10-eea4cc83b43c",
   "metadata": {},
   "source": [
    "Cleaning the data in pandas means working on the incorrect data to fix it . This incorrect data can empty data,null, duplicate data etc.."
   ]
  },
  {
   "cell_type": "code",
   "execution_count": null,
   "id": "2480b9fd-6dea-4206-a138-e57eb4f0a104",
   "metadata": {},
   "outputs": [],
   "source": [
    "Clean the data - built in function \n",
    "1 isnull() : Find the Null values and replace them eith True\n",
    "2 notnull() : Find the Not Null values and replace them eith True.\n",
    "3 df.dropan() : Drop rows with null values.\n",
    "4 df.fillna(x) : Replace Null values with a specific values."
   ]
  },
  {
   "cell_type": "code",
   "execution_count": 21,
   "id": "42ed8fd9-b649-439c-9288-a0b6a97907c6",
   "metadata": {},
   "outputs": [
    {
     "name": "stdout",
     "output_type": "stream",
     "text": [
      "data \n",
      "    Student ID First Name Last Name  Roll no     Mobile NO  Marks\n",
      "0       101.0    manish      Kumar     21.0  8.574692e+07   85.0\n",
      "1       102.0        Ram     Singh     22.0  6.352148e+09    NaN\n",
      "2       103.0     pankaj   parajap     23.0  5.463216e+09   89.0\n",
      "3         NaN        NaN       NaN      NaN           NaN    NaN\n",
      "4       104.0       sonu     kumar     24.0  4.758127e+09   69.0\n",
      "5       105.0      kamal    rathod     25.0  6.985721e+09   75.0\n",
      "6       106.0     faisal      khan     26.0  4.563219e+09   77.0\n",
      "7       104.0       sonu     kumar     24.0  4.758127e+09   69.0\n",
      "8       108.0        ram   parajap      NaN  5.463216e+09   89.0\n",
      "\n",
      "is null data \n",
      "    Student ID  First Name  Last Name  Roll no  Mobile NO  Marks\n",
      "0       False       False      False    False      False  False\n",
      "1       False       False      False    False      False   True\n",
      "2       False       False      False    False      False  False\n",
      "3        True        True       True     True       True   True\n",
      "4       False       False      False    False      False  False\n",
      "5       False       False      False    False      False  False\n",
      "6       False       False      False    False      False  False\n",
      "7       False       False      False    False      False  False\n",
      "8       False       False      False     True      False  False\n",
      "\n",
      " not null data \n",
      "    Student ID  First Name  Last Name  Roll no  Mobile NO  Marks\n",
      "0        True        True       True     True       True   True\n",
      "1        True        True       True     True       True  False\n",
      "2        True        True       True     True       True   True\n",
      "3       False       False      False    False      False  False\n",
      "4        True        True       True     True       True   True\n",
      "5        True        True       True     True       True   True\n",
      "6        True        True       True     True       True   True\n",
      "7        True        True       True     True       True   True\n",
      "8        True        True       True    False       True   True\n",
      "\n",
      "Drop null data \n",
      "    Student ID First Name Last Name  Roll no     Mobile NO  Marks\n",
      "0       101.0    manish      Kumar     21.0  8.574692e+07   85.0\n",
      "2       103.0     pankaj   parajap     23.0  5.463216e+09   89.0\n",
      "4       104.0       sonu     kumar     24.0  4.758127e+09   69.0\n",
      "5       105.0      kamal    rathod     25.0  6.985721e+09   75.0\n",
      "6       106.0     faisal      khan     26.0  4.563219e+09   77.0\n",
      "7       104.0       sonu     kumar     24.0  4.758127e+09   69.0\n",
      "\n",
      " Replace null data \n",
      "    Student ID First Name Last Name  Roll no     Mobile NO  Marks\n",
      "0       101.0    manish      Kumar     21.0  8.574692e+07   85.0\n",
      "1       102.0        Ram     Singh     22.0  6.352148e+09    0.0\n",
      "2       103.0     pankaj   parajap     23.0  5.463216e+09   89.0\n",
      "3         0.0          0         0      0.0  0.000000e+00    0.0\n",
      "4       104.0       sonu     kumar     24.0  4.758127e+09   69.0\n",
      "5       105.0      kamal    rathod     25.0  6.985721e+09   75.0\n",
      "6       106.0     faisal      khan     26.0  4.563219e+09   77.0\n",
      "7       104.0       sonu     kumar     24.0  4.758127e+09   69.0\n",
      "8       108.0        ram   parajap      0.0  5.463216e+09   89.0\n"
     ]
    }
   ],
   "source": [
    "file = \"C:\\\\Users\\\\manish kumar\\\\OneDrive\\\\Desktop\\\\data file\\\\student-incorrect_data.csv\"\n",
    "\n",
    "df = pd.read_csv(file)\n",
    "print(\"data \\n\",df)\n",
    "\n",
    "#find Null values\n",
    "is_null_df = df.isnull()\n",
    "print(\"\\nis null data \\n\",is_null_df)\n",
    "\n",
    "#find Not Null values\n",
    "not_null_df = df.notnull()\n",
    "print(\"\\n not null data \\n\",not_null_df)\n",
    "\n",
    "# Drop Null values\n",
    "# Drop Null values\n",
    "drop_null_df = df.dropna()\n",
    "print(\"\\nDrop null data \\n\", drop_null_df)\n",
    "\n",
    "##Replace Null values\n",
    "\n",
    "Replace_null = df.fillna(0)\n",
    "print(\"\\n Replace null data \\n\", Replace_null)\n"
   ]
  },
  {
   "cell_type": "code",
   "execution_count": null,
   "id": "c95401a0-0f29-4a38-b2cf-c2272271323c",
   "metadata": {},
   "outputs": [],
   "source": []
  },
  {
   "cell_type": "markdown",
   "id": "1eb91e12-08d4-4246-97f8-62557ab1007f",
   "metadata": {},
   "source": [
    "# STRING OPERATIONS ON NEXT DATA"
   ]
  },
  {
   "cell_type": "raw",
   "id": "40a8a3db-1497-4759-98ab-5331af671f0d",
   "metadata": {},
   "source": [
    "String methods. \n",
    "1 lower() : Perform lowercase on text data\n",
    "2 upper() : Perform uppercase on text data\n",
    "3 title() : Convert text data to camel case\n",
    "4 len() : To get the length of each element \n",
    "5 count() : Count the non-empty cells for each column or row \n",
    "6 contain() : Search for a value in a column.\n"
   ]
  },
  {
   "cell_type": "code",
   "execution_count": 33,
   "id": "6ff61de9-ed1d-45c3-86be-a97b3297e074",
   "metadata": {},
   "outputs": [
    {
     "name": "stdout",
     "output_type": "stream",
     "text": [
      "data \n",
      "    Student ID First Name Last Name  Roll no   Mobile NO  Marks\n",
      "0         101    manish      Kumar     21.0    85746924   85.0\n",
      "1         102        Ram     Singh     22.0  6352147895    NaN\n",
      "2         103     pankaj   parajap     23.0  5463215789   89.0\n",
      "3         104       sonu     kumar     24.0  4758126532   69.0\n",
      "4         104       sonu     kumar     24.0  4758126532   69.0\n",
      "5         108        ram   parajap      NaN  5463215789   89.0\n",
      "\n",
      "Data after converting to lowercase:\n",
      "    Student ID First Name Last Name  Roll no   Mobile NO  Marks\n",
      "0         101    manish      kumar     21.0    85746924   85.0\n",
      "1         102        ram     singh     22.0  6352147895    NaN\n",
      "2         103     pankaj   parajap     23.0  5463215789   89.0\n",
      "3         104       sonu     kumar     24.0  4758126532   69.0\n",
      "4         104       sonu     kumar     24.0  4758126532   69.0\n",
      "5         108        ram   parajap      NaN  5463215789   89.0\n",
      "\n",
      "Data after converting to Upper case:\n",
      "    Student ID First Name Last Name  Roll no   Mobile NO  Marks\n",
      "0         101    MANISH      KUMAR     21.0    85746924   85.0\n",
      "1         102        RAM     SINGH     22.0  6352147895    NaN\n",
      "2         103     PANKAJ   PARAJAP     23.0  5463215789   89.0\n",
      "3         104       SONU     KUMAR     24.0  4758126532   69.0\n",
      "4         104       SONU     KUMAR     24.0  4758126532   69.0\n",
      "5         108        RAM   PARAJAP      NaN  5463215789   89.0\n",
      "\n",
      "Data after converting to Tital :\n",
      "    Student ID First Name Last Name  Roll no   Mobile NO  Marks\n",
      "0         101    Manish      Kumar     21.0    85746924   85.0\n",
      "1         102        Ram     Singh     22.0  6352147895    NaN\n",
      "2         103     Pankaj   Parajap     23.0  5463215789   89.0\n",
      "3         104       Sonu     Kumar     24.0  4758126532   69.0\n",
      "4         104       Sonu     Kumar     24.0  4758126532   69.0\n",
      "5         108        Ram   Parajap      NaN  5463215789   89.0\n",
      "\n",
      "Data after converting to len:\n",
      "    Student ID  First Name  Last Name  Roll no   Mobile NO  Marks\n",
      "0         101           7          5     21.0    85746924   85.0\n",
      "1         102           3          5     22.0  6352147895    NaN\n",
      "2         103           6          7     23.0  5463215789   89.0\n",
      "3         104           4          5     24.0  4758126532   69.0\n",
      "4         104           4          5     24.0  4758126532   69.0\n",
      "5         108           3          7      NaN  5463215789   89.0\n"
     ]
    }
   ],
   "source": [
    "file = \"C:\\\\Users\\\\manish kumar\\\\OneDrive\\\\Desktop\\\\data file\\\\stu-incorrect_data.csv\"\n",
    "\n",
    "df = pd.read_csv(file)\n",
    "print(\"data \\n\",df)\n",
    "\n",
    "\n",
    "# Convert all string entries in the DataFrame to lowercase using apply() per column\n",
    "df_lower = df.apply(lambda col: col.str.lower() if col.dtype == \"object\" else col)\n",
    "print(\"\\nData after converting to lowercase:\\n\", df_lower)\n",
    "# Convert all string entries in the DataFrame to Uppercase using apply() per column\n",
    "df_lower = df.apply(lambda col: col.str.upper() if col.dtype == \"object\" else col)\n",
    "print(\"\\nData after converting to Upper case:\\n\", df_lower)\n",
    "\n",
    "# Convert all string entries in the DataFrame to title using apply() per column\n",
    "df_lower = df.apply(lambda col: col.str.title() if col.dtype == \"object\" else col)\n",
    "print(\"\\nData after converting to Tital :\\n\", df_lower)\n",
    "\n",
    "# Convert all string entries in the DataFrame to len using apply() per column\n",
    "df_lower = df.apply(lambda col: col.str.len() if col.dtype == \"object\" else col)\n",
    "print(\"\\nData after converting to len:\\n\", df_lower)"
   ]
  },
  {
   "cell_type": "code",
   "execution_count": null,
   "id": "d3f5d952-7bce-44e0-84e5-10797cbf0438",
   "metadata": {},
   "outputs": [],
   "source": []
  },
  {
   "cell_type": "code",
   "execution_count": 58,
   "id": "714b5755-49fe-44ed-a1c8-5a9b01873f62",
   "metadata": {},
   "outputs": [
    {
     "name": "stdout",
     "output_type": "stream",
     "text": [
      "\n",
      "Lower case data \n",
      " 0    alice\n",
      "1     manu\n",
      "2    david\n",
      "dtype: object\n",
      "\n",
      "Upper case data \n",
      " 0    ALICE\n",
      "1     MANU\n",
      "2    DAVID\n",
      "dtype: object\n",
      "\n",
      "Title case data \n",
      " 0    Alice\n",
      "1     Manu\n",
      "2    David\n",
      "dtype: object\n",
      "\n",
      " get the length of each element \n",
      " 0    5\n",
      "1    4\n",
      "2    5\n",
      "dtype: int64\n",
      "\n",
      " search for a specific values \n",
      " 0    False\n",
      "1     True\n",
      "2    False\n",
      "dtype: bool\n",
      "\n",
      " df \n",
      "      Name   Age      City\n",
      "0   Alice  25.0  New York\n",
      "1  manish   NaN   Chicago\n",
      "2    None  30.0     Paris\n",
      "3   David  22.0      None\n",
      "\n",
      " Count of non-null values per column:\n",
      " Name    3\n",
      "Age     3\n",
      "City    3\n",
      "dtype: int64\n",
      "\n",
      "Count of non-null values per row:\n",
      " 0    3\n",
      "1    2\n",
      "2    2\n",
      "3    2\n",
      "dtype: int64\n",
      "\n",
      "Count of names containing 'a': 3\n"
     ]
    }
   ],
   "source": [
    "import pandas as pd\n",
    "\n",
    "\n",
    "\n",
    "data_Name= ['Alice', 'manu', 'David']\n",
    "\n",
    "daf = pd.Series(data_Name)\n",
    "print(\"\\nLower case data \\n\",daf.str.lower())\n",
    "\n",
    "# Escape the backslash before the 'U' in 'Upper case data'\n",
    "print(\"\\nUpper case data \\n\", daf.str.upper())\n",
    "\n",
    "\n",
    "# Use 'title()' to convert the first letter of each word to uppercase\n",
    "print(\"\\nTitle case data \\n\", daf.str.title())\n",
    "\n",
    "print(\"\\n get the length of each element \\n\", daf.str.len())\n",
    " \n",
    "## Make sure to use 'str.contains()' for string search\n",
    "print(\"\\n search for a specific values \\n\", daf.str.contains(\"manu\", case=False))\n",
    "\n",
    "\n",
    "# Sample DataFrame\n",
    "data = {\n",
    "    'Name': ['Alice', 'manish', None, 'David'],\n",
    "    'Age': [25, None, 30, 22],\n",
    "    'City': ['New York', 'Chicago', 'Paris', None]\n",
    "}\n",
    "\n",
    "df = pd.DataFrame(data)\n",
    "\n",
    "print(\"\\n df \\n\", df)\n",
    "# Count non-null values for each column\n",
    "count_per_column = df.count()\n",
    "print(\"\\n Count of non-null values per column:\\n\", count_per_column)\n",
    "\n",
    "# Count non-null values for each row\n",
    "count_per_row = df.count(axis=1)\n",
    "print(\"\\nCount of non-null values per row:\\n\", count_per_row)\n",
    "\n",
    "\n",
    "# Count how many names contain the letter 'a'\n",
    "count_a_in_names = df['Name'].str.contains('a', case=False).sum()\n",
    "print(\"\\nCount of names containing 'a':\", count_a_in_names)\n"
   ]
  },
  {
   "cell_type": "code",
   "execution_count": null,
   "id": "b224d4db-f595-49d8-9f30-5574b923bcf5",
   "metadata": {},
   "outputs": [],
   "source": []
  },
  {
   "cell_type": "markdown",
   "id": "618ffce5-3ebb-4f61-a6e8-5076b778cbbe",
   "metadata": {},
   "source": [
    "# PANDAS DATETIME OPERATIONS"
   ]
  },
  {
   "cell_type": "raw",
   "id": "0b8ccd8a-0ecb-41f8-9e1d-470d91b7c0ed",
   "metadata": {},
   "source": [
    "First see how to get the current date and time, then we will check for leap year last day of the month,week,etc. The Following example are covered.\n",
    "\n",
    "1. Get the current date and time \n",
    "2. Get the day of the week \n",
    "3. Get the day of the year \n",
    "4. Get the number of days in a month\n",
    "5. check if the year is a leap year\n",
    "6. check if the date is the last day of the month \n",
    "7. check if the date is the first day of the month \n",
    "8. check if the date is the last day of the year\n",
    "9. check if the date is the first day of the year\n",
    "\n"
   ]
  },
  {
   "cell_type": "code",
   "execution_count": 17,
   "id": "34b24e25-675a-4ff4-af1f-c4821930e0fd",
   "metadata": {},
   "outputs": [
    {
     "name": "stdout",
     "output_type": "stream",
     "text": [
      "Current Date and Time: 2025-01-26 22:25:04.492526\n",
      "\n",
      " Week Day: Sunday\n",
      "\n",
      " Day of the Week: 6\n",
      "\n",
      " Day of the Year: 26\n",
      "\n",
      " Number of Days in Current Month: 31\n",
      "\n",
      " Is Leap Year: False\n",
      "\n",
      " Is Last Day of the Month: False\n",
      "\n",
      " Is First Day of the Month: False\n",
      "\n",
      " Is Last Day of the Year: False\n",
      "\n",
      " Is First Day of the Year: False\n"
     ]
    }
   ],
   "source": [
    "# 1. Get the current date and time\n",
    "import pandas as pd \n",
    "current_datetime = pd.Timestamp.now()\n",
    "# current_datetime = pd.Timestamp(year = 2023,month=12,day=31,hour=11)\n",
    "\n",
    "print(\"Current Date and Time:\", current_datetime)\n",
    "\n",
    "# 2 Get the day of the week\n",
    "day_of_week = current_datetime.day_name()\n",
    "print(\"\\n Week Day:\", day_of_week)\n",
    "print(\"\\n Day of the Week:\", current_datetime.dayofweek)\n",
    "#3 Get the day of the year\n",
    "day_of_year = current_datetime.dayofyear\n",
    "print(\"\\n Day of the Year:\", day_of_year)\n",
    "\n",
    "#4 Get the number of days in a month\n",
    "days_in_month = current_datetime.days_in_month\n",
    "print(\"\\n Number of Days in Current Month:\", days_in_month)\n",
    "\n",
    "#5 Check if the year is a leap year\n",
    "is_leap_year = current_datetime.is_leap_year\n",
    "print(\"\\n Is Leap Year:\", is_leap_year)\n",
    "\n",
    "# 6. Check if the date is the last day of the month\n",
    "last_day_of_month = current_datetime.is_month_end\n",
    "print(\"\\n Is Last Day of the Month:\", last_day_of_month)\n",
    "\n",
    "# 7. Check if the date is the first day of the month\n",
    "first_day_of_month = current_datetime.is_month_start\n",
    "print(\"\\n Is First Day of the Month:\", first_day_of_month)\n",
    "\n",
    "# 8. Check if the date is the last day of the year\n",
    "\n",
    "last_day_of_year = current_datetime.is_year_end\n",
    "print(\"\\n Is Last Day of the Year:\", last_day_of_year)\n",
    "\n",
    "# 9. Check if the date is the first day of the year\n",
    "first_day_of_year = current_datetime.is_year_start\n",
    "print(\"\\n Is First Day of the Year:\", first_day_of_year)\n"
   ]
  },
  {
   "cell_type": "code",
   "execution_count": null,
   "id": "7705247c-c4d2-45ea-b1df-0e9c7033cfbf",
   "metadata": {},
   "outputs": [],
   "source": []
  },
  {
   "cell_type": "markdown",
   "id": "cd388d5b-0b24-4174-a8b3-59e6b9656854",
   "metadata": {},
   "source": [
    "# REMOVE WHITE SPACE OR SPECIFIC CHARACTERS"
   ]
  },
  {
   "cell_type": "raw",
   "id": "7d935c37-b695-4ab8-816e-08dc9ae259a9",
   "metadata": {},
   "source": [
    "To remove whitespace (including new line) or a set of spacific characters on text data in a series or DataFrame, use the following methods in pandas:\n",
    "\n",
    "1 strip(): Strip whitespace or specific characters from the left and right\n",
    "2 istrip(): Strip whitespace or specific characters from only  the left side\n",
    "3 rstrip(): Strip whitespace or specific characters from only the right side "
   ]
  },
  {
   "cell_type": "code",
   "execution_count": 28,
   "id": "dd66bb84-3459-4d81-9215-1079096a55a2",
   "metadata": {},
   "outputs": [
    {
     "name": "stdout",
     "output_type": "stream",
     "text": [
      "\n",
      "data\n",
      " 0         Hello   \n",
      "1       World!!   \n",
      "2         Pandas  \n",
      "dtype: object\n",
      "\n",
      "Strip whitespace from both sides\n",
      " 0      Hello\n",
      "1    World!!\n",
      "2     Pandas\n",
      "dtype: object\n",
      "\n",
      "Strip specific characters\n",
      " 0     Hello\n",
      "1     World\n",
      "2    Pandas\n",
      "dtype: object\n",
      "\n",
      " Strip whitespace from the left side\n",
      " 0      Hello   \n",
      "1    World!!   \n",
      "2      Pandas  \n",
      "dtype: object\n",
      "\n",
      " left_stripped_data\n",
      " 0       ello   \n",
      "1    World!!   \n",
      "2      Pandas  \n",
      "dtype: object\n",
      "\n",
      " Strip whitespace from the right side\n",
      "  0         Hello\n",
      "1       World!!\n",
      "2        Pandas\n",
      "dtype: object\n",
      "\n",
      " right_stripped_data\n",
      ":- 0        Hello\n",
      "1        World\n",
      "2       Pandas\n",
      "dtype: object\n"
     ]
    }
   ],
   "source": [
    "# 1. strip(): Strip whitespace or specific characters from both sides\n",
    "import pandas as pd\n",
    "\n",
    "# Example Series\n",
    "data = pd.Series([\"    Hello   \", \"   World!!   \", \"  Pandas  \"])\n",
    "print(\"\\ndata\\n\",data)\n",
    "# Strip whitespace from both sides\n",
    "stripped_data = data.str.strip()\n",
    "print(\"\\nStrip whitespace from both sides\\n\",stripped_data)\n",
    "\n",
    "# Strip specific characters (e.g., \"!\", \" \")\n",
    "stripped_data = data.str.strip(\" !\")\n",
    "print(\"\\nStrip specific characters\\n\",stripped_data)\n",
    "\n",
    "# 2. lstrip(): Strip whitespace or specific characters from only the left side\n",
    "# Strip whitespace from the left side\n",
    "left_stripped_data = data.str.lstrip()\n",
    "print(\"\\n Strip whitespace from the left side\\n\",left_stripped_data)\n",
    "\n",
    "# Strip specific characters (e.g., \" \", \"H\") from the left side\n",
    "left_stripped_data = data.str.lstrip(\" H\")\n",
    "print(\"\\n left_stripped_data\\n\",left_stripped_data)\n",
    "\n",
    "\n",
    "# 3. rstrip(): Strip whitespace or specific characters from only the right side\n",
    "\n",
    "# Strip whitespace from the right side\n",
    "right_stripped_data = data.str.rstrip()\n",
    "print(\"\\n Strip whitespace from the right side\\n \",right_stripped_data)\n",
    "# Strip specific characters (e.g., \" \", \"!\") from the right side\n",
    "right_stripped_data = data.str.rstrip(\" !\")\n",
    "print(\"\\n right_stripped_data\\n:-\",right_stripped_data)"
   ]
  },
  {
   "cell_type": "code",
   "execution_count": null,
   "id": "9496e576-d02f-4a0c-8be9-4a9dfd2a81f0",
   "metadata": {},
   "outputs": [],
   "source": []
  },
  {
   "cell_type": "markdown",
   "id": "39354e7e-7fc8-4c1e-9344-1edc6f4a0710",
   "metadata": {},
   "source": [
    "# GROUP THE DATA "
   ]
  },
  {
   "cell_type": "raw",
   "id": "12992beb-d82c-4503-92a4-90b52d01383a",
   "metadata": {},
   "source": [
    "We will learn how to group data in a DataFrame and perform operations on it. First we will split the data into groups then we will iterate through the group\n",
    "and them display the groups.\n",
    "Ex1 : split the object and combine the result \n",
    "ex2 : Iterate the group\n",
    "ex3 : view the group\n",
    "\n",
    "Perform aggregation Operation on Group\n",
    "ex4 Get the mean of the grouped data\n",
    "ex5 Get the size of each group"
   ]
  },
  {
   "cell_type": "code",
   "execution_count": 44,
   "id": "8a7d3373-26cb-4fa7-a40d-32215419ced2",
   "metadata": {},
   "outputs": [
    {
     "name": "stdout",
     "output_type": "stream",
     "text": [
      "Display  records\n",
      "   Player  Rank  Year\n",
      "0   Amit     1  2023\n",
      "1   manu     4  2022\n",
      "2   Amit     3  2021\n",
      "3  David     5  2022\n",
      "4    Ram     2  2018\n",
      "5   manu     7  2019\n",
      "\n",
      " res         Rank  Year\n",
      "Player            \n",
      "Amit       1  2023\n",
      "David      5  2022\n",
      "Ram        2  2018\n",
      "manu       4  2022\n",
      "\n",
      "combine the groups and view them\n",
      "          Player  Rank  Year\n",
      "Player                     \n",
      "Amit   0   Amit     1  2023\n",
      "       2   Amit     3  2021\n",
      "David  3  David     5  2022\n",
      "Ram    4    Ram     2  2018\n",
      "manu   1   manu     4  2022\n",
      "       5   manu     7  2019\n"
     ]
    }
   ],
   "source": [
    "#1 . Split the Data into Groups and Combine the Results (Ex1)\n",
    "import pandas as pd\n",
    "\n",
    "data = {\n",
    "        \"Player\":[\"Amit\",\"manu\",\"Amit\",\"David\",\"Ram\",\"manu\"],\n",
    "        \"Rank\":[1,4,3,5,2,7],\n",
    "        \"Year\":[2023,2022,2021,2022,2018,2019]\n",
    "       }\n",
    "\n",
    "df = pd.DataFrame(data)\n",
    "print(\"Display  records\\n\",df)\n",
    "\n",
    "#Group the data on player\n",
    "res = df.groupby(\"Player\")\n",
    "print(\"\\n res\",res.first())\n",
    "\n",
    "# Split the DataFrame by 'Player'\n",
    "grouped = df.groupby('Player')\n",
    "\n",
    "# Combine the result - here, let's simply combine the groups and view them\n",
    "combined_result = grouped.apply(lambda x: x)\n",
    "print(\"\\ncombine the groups and view them\\n\",combined_result)\n",
    "\n"
   ]
  },
  {
   "cell_type": "code",
   "execution_count": 45,
   "id": "68e27756-248e-4f02-9586-b1f911b2e4f5",
   "metadata": {},
   "outputs": [
    {
     "name": "stdout",
     "output_type": "stream",
     "text": [
      "Display  records\n",
      "   Player  Rank  Year\n",
      "0   Amit     1  2023\n",
      "1   manu     4  2022\n",
      "2   Amit     3  2021\n",
      "3  David     5  2022\n",
      "4    Ram     2  2018\n",
      "5   manu     7  2019\n",
      "\n",
      "Group for Player: Amit\n",
      "  Player  Rank  Year\n",
      "0   Amit     1  2023\n",
      "2   Amit     3  2021 \n",
      "\n",
      "\n",
      "Group for Player: David\n",
      "  Player  Rank  Year\n",
      "3  David     5  2022 \n",
      "\n",
      "\n",
      "Group for Player: Ram\n",
      "  Player  Rank  Year\n",
      "4    Ram     2  2018 \n",
      "\n",
      "\n",
      "Group for Player: manu\n",
      "  Player  Rank  Year\n",
      "1   manu     4  2022\n",
      "5   manu     7  2019 \n",
      "\n"
     ]
    }
   ],
   "source": [
    "# 2. Iterate Through the Groups (Ex2)\n",
    "import pandas as pd\n",
    "\n",
    "data = {\n",
    "        \"Player\":[\"Amit\",\"manu\",\"Amit\",\"David\",\"Ram\",\"manu\"],\n",
    "        \"Rank\":[1,4,3,5,2,7],\n",
    "        \"Year\":[2023,2022,2021,2022,2018,2019]\n",
    "       }\n",
    "\n",
    "df = pd.DataFrame(data)\n",
    "print(\"Display  records\\n\",df)\n",
    "\n",
    "\n",
    "\n",
    "# Iterate through the groups\n",
    "for Player, group in grouped:\n",
    "    print(f\"\\nGroup for Player: {Player}\")\n",
    "    print(group, \"\\n\")\n",
    "\n"
   ]
  },
  {
   "cell_type": "code",
   "execution_count": 51,
   "id": "8749c2b4-a164-4216-bd0b-cbd2d6421d39",
   "metadata": {},
   "outputs": [
    {
     "name": "stdout",
     "output_type": "stream",
     "text": [
      "Display  records\n",
      "   Player  Rank  Year\n",
      "0   Amit     1  2023\n",
      "1   manu     4  2022\n",
      "2   Amit     3  2021\n",
      "3  David     5  2022\n",
      "4    Ram     2  2018\n",
      "5   manu     7  2019\n",
      "\n",
      "Group for Amit:\n",
      "  Player  Rank  Year\n",
      "0   Amit     1  2023\n",
      "2   Amit     3  2021\n",
      "\n",
      " Group\n",
      " {'Amit': [0, 2], 'David': [3], 'Ram': [4], 'manu': [1, 5]}\n"
     ]
    }
   ],
   "source": [
    "# 3. View the Group (Ex3)\n",
    "import pandas as pd\n",
    "\n",
    "data = {\n",
    "        \"Player\":[\"Amit\",\"manu\",\"Amit\",\"David\",\"Ram\",\"manu\"],\n",
    "        \"Rank\":[1,4,3,5,2,7],\n",
    "        \"Year\":[2023,2022,2021,2022,2018,2019]\n",
    "       }\n",
    "\n",
    "df = pd.DataFrame(data)\n",
    "print(\"Display  records\\n\",df)\n",
    "\n",
    "# View a specific group\n",
    "# Group the DataFrame by the 'Player' column\n",
    "grouped = df.groupby('Player')\n",
    "\n",
    "# View a specific group (e.g., \"Amit\")\n",
    "amit_group = grouped.get_group('Amit')\n",
    "print(\"\\nGroup for Amit:\")\n",
    "print(amit_group)\n",
    "\n",
    "# Group by player and Display\n",
    "\n",
    "print(\"\\n Group\\n\",df.groupby(\"Player\").groups)\n"
   ]
  },
  {
   "cell_type": "code",
   "execution_count": 54,
   "id": "9adf9c60-861e-4f08-8a86-471ccca6336c",
   "metadata": {},
   "outputs": [
    {
     "name": "stdout",
     "output_type": "stream",
     "text": [
      "Display  records\n",
      "   Player  Rank  Year\n",
      "0   Amit     1  2023\n",
      "1   manu     4  2022\n",
      "2   Amit     3  2021\n",
      "3  David     5  2022\n",
      "4    Ram     2  2018\n",
      "5   manu     7  2019\n",
      "\n",
      " Get the mean Rank for each Player group\n",
      " Player\n",
      "Amit     2.0\n",
      "David    5.0\n",
      "Ram      2.0\n",
      "manu     5.5\n",
      "Name: Rank, dtype: float64\n"
     ]
    }
   ],
   "source": [
    "# 4. Perform Aggregation Operation on Groups (Ex4)\n",
    "import pandas as pd\n",
    "\n",
    "data = {\n",
    "        \"Player\":[\"Amit\",\"manu\",\"Amit\",\"David\",\"Ram\",\"manu\"],\n",
    "        \"Rank\":[1,4,3,5,2,7],\n",
    "        \"Year\":[2023,2022,2021,2022,2018,2019]\n",
    "       }\n",
    "\n",
    "df = pd.DataFrame(data)\n",
    "print(\"Display  records\\n\",df)\n",
    "# Get the mean Rank for each Player group\n",
    "mean_age = grouped['Rank'].mean()\n",
    "print(\"\\n Get the mean Rank for each Player group\\n\",mean_age)"
   ]
  },
  {
   "cell_type": "code",
   "execution_count": 64,
   "id": "93f9a367-21fd-4a97-b058-2e85f997e220",
   "metadata": {},
   "outputs": [
    {
     "name": "stdout",
     "output_type": "stream",
     "text": [
      "Display  records\n",
      "   Player  Rank  Point  Year\n",
      "0   Amit     1     95  2023\n",
      "1   manu     4     70  2022\n",
      "2   Amit     3     65  2021\n",
      "3  David     5     80  2022\n",
      "4    Ram     2     47  2018\n",
      "5   manu     7     96  2019\n",
      "\n",
      " Get the mean Rank for each Player group\n",
      " Year\n",
      "2018    47.0\n",
      "2019    96.0\n",
      "2021    65.0\n",
      "2022    75.0\n",
      "2023    95.0\n",
      "Name: Point, dtype: float64\n",
      "\n",
      "Get the mean Rank and Point for each Year:\n",
      "       Rank  Point\n",
      "Year             \n",
      "2018   2.0   47.0\n",
      "2019   7.0   96.0\n",
      "2021   3.0   65.0\n",
      "2022   4.5   75.0\n",
      "2023   1.0   95.0\n"
     ]
    },
    {
     "name": "stderr",
     "output_type": "stream",
     "text": [
      "C:\\Users\\manish kumar\\AppData\\Local\\Temp\\ipykernel_15652\\1107536389.py:16: FutureWarning: The provided callable <function mean at 0x000001EF6150CF40> is currently using SeriesGroupBy.mean. In a future version of pandas, the provided callable will be used directly. To keep current behavior pass the string \"mean\" instead.\n",
      "  print(\"\\n Get the mean Rank for each Player group\\n\",mean_age[\"Point\"].agg(np.mean))\n"
     ]
    }
   ],
   "source": [
    "# 4. Perform Aggregation Operation on Groups (Ex4)\n",
    "import pandas as pd\n",
    "import numpy as np\n",
    "\n",
    "data = {\n",
    "        \"Player\":[\"Amit\",\"manu\",\"Amit\",\"David\",\"Ram\",\"manu\"],\n",
    "        \"Rank\":[1,4,3,5,2,7],\n",
    "        \"Point\":[95,70,65,80,47,96],\n",
    "        \"Year\":[2023,2022,2021,2022,2018,2019]\n",
    "       }\n",
    "\n",
    "df = pd.DataFrame(data)\n",
    "print(\"Display  records\\n\",df)\n",
    "# Get the mean year for each Player group\n",
    "mean_age = df.groupby('Year')\n",
    "print(\"\\n Get the mean Rank for each Player group\\n\",mean_age[\"Point\"].agg(np.mean))\n",
    "\n",
    "# Grouping by 'Year'\n",
    "grouped_by_year = df.groupby('Year')\n",
    "\n",
    "# Aggregation: Get the mean of the 'Rank' and 'Point' for each year\n",
    "mean_rank_points = grouped_by_year[['Rank', 'Point']].mean()\n",
    "\n",
    "print(\"\\nGet the mean Rank and Point for each Year:\\n\", mean_rank_points)"
   ]
  },
  {
   "cell_type": "code",
   "execution_count": 66,
   "id": "00d27491-7c2f-4d62-8ca4-3c3eb60e6d85",
   "metadata": {},
   "outputs": [
    {
     "name": "stdout",
     "output_type": "stream",
     "text": [
      "Display  records\n",
      "   Player  Rank  Year\n",
      "0   Amit     1  2023\n",
      "1   manu     4  2022\n",
      "2   Amit     3  2021\n",
      "3  David     5  2022\n",
      "4    Ram     2  2018\n",
      "5   manu     7  2019\n",
      "\n",
      "Get the size of each group\n",
      " Player\n",
      "Amit     2\n",
      "David    1\n",
      "Ram      1\n",
      "manu     2\n",
      "dtype: int64\n"
     ]
    }
   ],
   "source": [
    "# 5. Get the Size of Each Group (Ex5)\n",
    "import pandas as pd\n",
    "\n",
    "data = {\n",
    "        \"Player\":[\"Amit\",\"manu\",\"Amit\",\"David\",\"Ram\",\"manu\"],\n",
    "        \"Rank\":[1,4,3,5,2,7],\n",
    "        \"Year\":[2023,2022,2021,2022,2018,2019]\n",
    "       }\n",
    "\n",
    "df = pd.DataFrame(data)\n",
    "print(\"Display  records\\n\",df)\n",
    "# Get the size of each group\n",
    "group_size = grouped.size()\n",
    "print(\"\\nGet the size of each group\\n\",group_size)\n"
   ]
  },
  {
   "cell_type": "code",
   "execution_count": null,
   "id": "adbba0ef-0b9e-4dff-87c9-d7313f362f0d",
   "metadata": {},
   "outputs": [],
   "source": []
  },
  {
   "cell_type": "markdown",
   "id": "07f7816f-0ec5-4603-a25e-004e5870af2b",
   "metadata": {},
   "source": [
    "# STATISTICAL FUNCTIONS"
   ]
  },
  {
   "cell_type": "markdown",
   "id": "e852d976-aef7-4a3c-9766-616a3fda2d34",
   "metadata": {},
   "source": [
    "In pandas, statistical functions allow you to analyze data by summarizing it with measures \n",
    "such as mean, median, standard deviation, variance, etc. You can apply these functions directly to a DataFrame or Series\n",
    "to get a quick overview of the data.\n",
    "\n",
    "Key Takeaways:\n",
    "Mean, Median, Mode: Measures of central tendency.\n",
    "Standard Deviation, Variance: Measures of spread or dispersion.\n",
    "Min, Max, Sum: Basic summary statistics.\n",
    "Quantiles: Divide data into intervals, helpful in understanding distributions.\n",
    "Skewness, Kurtosis: Measures of shape of the distribution.\n",
    "Correlation, Covariance: Measures of the relationship between two variables."
   ]
  },
  {
   "cell_type": "code",
   "execution_count": 68,
   "id": "a225e4f7-7285-48dd-b916-af6cf22eb0cf",
   "metadata": {},
   "outputs": [
    {
     "name": "stdout",
     "output_type": "stream",
     "text": [
      "\n",
      " Mean of Rank: 3.6666666666666665\n",
      "\n",
      " Median of Rank: 3.5\n",
      "\n",
      " Mode of Rank: 1\n",
      "\n",
      " Standard Deviation of Rank: 2.160246899469287\n",
      "\n",
      " Variance of Rank: 4.666666666666667\n",
      "\n",
      " Min of Rank: 1\n",
      "\n",
      " Max of Rank: 7\n",
      "\n",
      " Sum of Rank: 22\n",
      "\n",
      " Cumulative Sum of Rank:\n",
      " 0     1\n",
      "1     5\n",
      "2     8\n",
      "3    13\n",
      "4    15\n",
      "5    22\n",
      "Name: Rank, dtype: int64\n",
      "\n",
      " Quantile 25% of Rank: 2.25\n",
      "\n",
      " Skewness of Rank: 0.46291004988627593\n",
      "\n",
      " Kurtosis of Rank: -0.2999999999999998\n",
      "\n",
      " Correlation between Rank and Point: 0.3686865329183568\n",
      "\n",
      " Covariance between Rank and Point: 15.0\n"
     ]
    }
   ],
   "source": [
    "import pandas as pd\n",
    "\n",
    "# Example DataFrame\n",
    "data = {\n",
    "    \"Player\": [\"Amit\", \"manu\", \"Amit\", \"David\", \"Ram\", \"manu\"],\n",
    "    \"Rank\": [1, 4, 3, 5, 2, 7],\n",
    "    \"Point\": [95, 70, 65, 80, 47, 96],\n",
    "    \"Year\": [2023, 2022, 2021, 2022, 2018, 2019]\n",
    "}\n",
    "\n",
    "df = pd.DataFrame(data)\n",
    "\n",
    "# Using multiple statistical functions\n",
    "print(\"\\n Mean of Rank:\", df['Rank'].mean())\n",
    "print(\"\\n Median of Rank:\", df['Rank'].median())\n",
    "print(\"\\n Mode of Rank:\", df['Rank'].mode()[0])  # Returns the first mode if there are multiple\n",
    "print(\"\\n Standard Deviation of Rank:\", df['Rank'].std())\n",
    "print(\"\\n Variance of Rank:\", df['Rank'].var())\n",
    "print(\"\\n Min of Rank:\", df['Rank'].min())\n",
    "print(\"\\n Max of Rank:\", df['Rank'].max())\n",
    "print(\"\\n Sum of Rank:\", df['Rank'].sum())\n",
    "print(\"\\n Cumulative Sum of Rank:\\n\", df['Rank'].cumsum())\n",
    "print(\"\\n Quantile 25% of Rank:\", df['Rank'].quantile(0.25))\n",
    "print(\"\\n Skewness of Rank:\", df['Rank'].skew())\n",
    "print(\"\\n Kurtosis of Rank:\", df['Rank'].kurt())\n",
    "print(\"\\n Correlation between Rank and Point:\", df['Rank'].corr(df['Point']))\n",
    "print(\"\\n Covariance between Rank and Point:\", df['Rank'].cov(df['Point']))\n"
   ]
  },
  {
   "cell_type": "code",
   "execution_count": null,
   "id": "a1b430fb-65eb-435b-9045-2872ac174627",
   "metadata": {},
   "outputs": [],
   "source": []
  },
  {
   "cell_type": "code",
   "execution_count": null,
   "id": "0f01241e-4a28-422a-9e07-e78c9375ab24",
   "metadata": {},
   "outputs": [],
   "source": []
  },
  {
   "cell_type": "markdown",
   "id": "ccf56c03-d517-4601-ad67-b307daee0543",
   "metadata": {},
   "source": [
    "# PANDAS- PLOATTING"
   ]
  },
  {
   "cell_type": "markdown",
   "id": "a3b427ce-b8b4-4d08-a51c-7c57360417ff",
   "metadata": {},
   "source": [
    "In pandas, plotting is built-in through integration with the matplotlib library. This allows you to quickly visualize \n",
    "your data with various plot types (e.g., line, bar, scatter, histogram, etc.) directly from a DataFrame or Series."
   ]
  },
  {
   "cell_type": "raw",
   "id": "e548b4fc-f045-431f-8481-b1abc9330c4a",
   "metadata": {},
   "source": [
    "Summary of pandas Plotting Options:\n",
    "plot(): General-purpose plotting function for line, bar, area, and scatter plots.\n",
    "bar() and barh(): For vertical and horizontal bar plots.\n",
    "hist(): To plot histograms.\n",
    "scatter(): For scatter plots.\n",
    "pie(): For pie charts.\n",
    "boxplot(): For box plots.\n",
    "hexbin(): For hexagonal binning plots.\n",
    "subplots=True: For creating multiple plots in a single figure.\n",
    "You can use matplotlib and seaborn along with pandas plotting to further customize and create more complex visualizations."
   ]
  },
  {
   "cell_type": "markdown",
   "id": "e62adef1-4e8b-45cc-8fcb-cceb2d79121f",
   "metadata": {},
   "source": [
    "1. Line Plot (plot(kind='line'))\n",
    "A line plot is used to display data points over a continuous interval, typically over time. \n",
    "It's the default plot type when calling plot() on a DataFrame.\n",
    "\n",
    "Use Case: Ideal for time series data or when you want to show trends over time or continuous data."
   ]
  },
  {
   "cell_type": "code",
   "execution_count": 72,
   "id": "6bb5f6c7-7df5-4029-808d-8072ec7cb242",
   "metadata": {},
   "outputs": [
    {
     "data": {
      "image/png": "[encoded data removed]",
      "text/plain": [
       "<Figure size 640x480 with 1 Axes>"
      ]
     },
     "metadata": {},
     "output_type": "display_data"
    },
    {
     "data": {
      "image/png": "[encoded data removed]",
      "text/plain": [
       "<Figure size 640x480 with 1 Axes>"
      ]
     },
     "metadata": {},
     "output_type": "display_data"
    }
   ],
   "source": [
    "import pandas as pd\n",
    "import matplotlib.pyplot as plt\n",
    "\n",
    "# Sample DataFrame\n",
    "data = {\n",
    "    \"Year\": [2020, 2021, 2022, 2023],\n",
    "    \"Sales\": [100, 150, 200, 250]\n",
    "}\n",
    "df = pd.DataFrame(data)\n",
    "\n",
    "# Line Plot (Default)\n",
    "df.plot(x='Year', y='Sales', kind='line')\n",
    "plt.title(\"Sales Over the Years\")\n",
    "plt.show()\n",
    "\n",
    "import pandas as pd\n",
    "import matplotlib.pyplot as plt\n",
    "\n",
    "# Sample DataFrame\n",
    "data = {\n",
    "    \"Year\": [2020, 2021, 2022, 2023],\n",
    "    \"Sales\": [100, 150, 200, 250]\n",
    "}\n",
    "df = pd.DataFrame(data)\n",
    "\n",
    "# Line Plot (Default)\n",
    "df.plot(x='Year', y='Sales', kind='line')\n",
    "plt.title(\"Sales Over the Years\")\n",
    "plt.show()\n"
   ]
  },
  {
   "cell_type": "code",
   "execution_count": 73,
   "id": "54af3c5e-c77e-4d3a-b4c4-e2773e70b869",
   "metadata": {},
   "outputs": [
    {
     "data": {
      "image/png": "[encoded data removed]",
      "text/plain": [
       "<Figure size 640x480 with 1 Axes>"
      ]
     },
     "metadata": {},
     "output_type": "display_data"
    }
   ],
   "source": [
    "\n",
    "# 2. Bar Plot (plot(kind='bar'))\n",
    "# A bar plot is used to show quantities or frequency counts for different categories. It’s useful for visualizing categorical data.\n",
    "\n",
    "# Use Case: Best for comparing discrete categories.\n",
    "# Bar plots are useful for categorical data to visualize the frequency or values for each category.\n",
    "df.plot(x='Year', y='Sales', kind='bar', color='blue')\n",
    "plt.title(\"Sales by Year\")\n",
    "plt.show()\n"
   ]
  },
  {
   "cell_type": "code",
   "execution_count": 74,
   "id": "d8aba3e6-9d04-41f6-8255-c09f30a7d214",
   "metadata": {},
   "outputs": [
    {
     "data": {
      "image/png": "[encoded data removed]",
      "text/plain": [
       "<Figure size 640x480 with 1 Axes>"
      ]
     },
     "metadata": {},
     "output_type": "display_data"
    }
   ],
   "source": [
    "df.plot(x='Year', y='Sales', kind='barh', color='green')\n",
    "plt.title(\"Sales by Year (Horizontal)\")\n",
    "plt.show()\n"
   ]
  },
  {
   "cell_type": "code",
   "execution_count": null,
   "id": "98d04b08-02b5-49bc-9f9d-897d0a57b376",
   "metadata": {},
   "outputs": [],
   "source": []
  },
  {
   "cell_type": "code",
   "execution_count": 89,
   "id": "e8f832fd-ed07-41a4-be05-cd5fd270f57b",
   "metadata": {},
   "outputs": [
    {
     "data": {
      "image/png": "[encoded data removed]",
      "text/plain": [
       "<Figure size 640x480 with 1 Axes>"
      ]
     },
     "metadata": {},
     "output_type": "display_data"
    }
   ],
   "source": [
    "# 3. Horizontal Bar Plot (plot(kind='barh'))\n",
    "# A horizontal bar plot is similar to a bar plot, but the bars are drawn horizontally. This \n",
    "# is useful when category names are long or when comparing a large number of categories.\n",
    "\n",
    "# Use Case: When category labels are long or when there are many categories.\n",
    "\n",
    "# Sample data\n",
    "data = [12, 15, 12, 17, 13, 19, 20, 16, 17, 20, 15, 14]\n",
    "\n",
    "# Create a DataFrame\n",
    "df = pd.DataFrame(data, columns=[\"Values\"])\n",
    "\n",
    "# Histogram plot\n",
    "df.plot(kind='hist', bins=5, color='purple', edgecolor='black')\n",
    "plt.title(\"Distribution of Values\")\n",
    "plt.xlabel(\"Values\")\n",
    "plt.ylabel(\"Frequency\")\n",
    "plt.show()\n"
   ]
  },
  {
   "cell_type": "code",
   "execution_count": 76,
   "id": "5267040d-5473-437d-89ae-adf455549e0a",
   "metadata": {},
   "outputs": [
    {
     "data": {
      "image/png": "[encoded data removed]",
      "text/plain": [
       "<Figure size 640x480 with 1 Axes>"
      ]
     },
     "metadata": {},
     "output_type": "display_data"
    }
   ],
   "source": [
    "# 4. Scatter Plot (plot(kind='scatter'))\n",
    "# A scatter plot displays individual data points on a two-dimensional plane.\n",
    "# It is used to explore relationships between two continuous variables.\n",
    "\n",
    "# Use Case: To visualize the relationship between two variables.\n",
    "df = pd.DataFrame({\n",
    "    'X': [1, 2, 3, 4, 5],\n",
    "    'Y': [2, 3, 5, 7, 11]\n",
    "})\n",
    "\n",
    "# Scatter Plot\n",
    "df.plot(kind='scatter', x='X', y='Y', color='red')\n",
    "plt.title(\"Scatter Plot of X vs Y\")\n",
    "plt.show()\n"
   ]
  },
  {
   "cell_type": "code",
   "execution_count": 77,
   "id": "8aea659f-c271-4b78-a448-d924ce1f56b7",
   "metadata": {},
   "outputs": [],
   "source": [
    "#. Pie Plot (plot(kind='pie'))\n",
    "# A pie plot visualizes categorical data as slices of a circle. Each slice represents a category's proportion of the whole.\n",
    "\n",
    "# Use Case: Useful when you want to show proportions"
   ]
  },
  {
   "cell_type": "code",
   "execution_count": 78,
   "id": "10c04360-6f2b-40ec-a4c4-6b283b158725",
   "metadata": {},
   "outputs": [
    {
     "data": {
      "image/png": "[encoded data removed]",
      "text/plain": [
       "<Figure size 640x480 with 1 Axes>"
      ]
     },
     "metadata": {},
     "output_type": "display_data"
    }
   ],
   "source": [
    "# Sample data for pie plot\n",
    "data = {\n",
    "    \"Category\": [\"A\", \"B\", \"C\", \"D\"],\n",
    "    \"Value\": [25, 35, 20, 20]\n",
    "}\n",
    "df = pd.DataFrame(data)\n",
    "\n",
    "# Pie Plot\n",
    "df.plot.pie(y='Value', labels=df['Category'], autopct='%1.1f%%', legend=False)\n",
    "plt.title(\"Category Distribution\")\n",
    "plt.show()\n"
   ]
  },
  {
   "cell_type": "code",
   "execution_count": 79,
   "id": "c69ce535-fcf6-4e5b-9065-018982a105c3",
   "metadata": {},
   "outputs": [
    {
     "data": {
      "image/png": "[encoded data removed]",
      "text/plain": [
       "<Figure size 640x480 with 1 Axes>"
      ]
     },
     "metadata": {},
     "output_type": "display_data"
    }
   ],
   "source": [
    "# 6. Box Plot (boxplot())\n",
    "# Box plots (also called whisker plots) display the summary statistics of a dataset, like the median, quartiles, and outliers.\n",
    "# Sample DataFrame\n",
    "df = pd.DataFrame({\n",
    "    'Scores': [95, 82, 98, 74, 88, 72, 91, 67, 90, 78]\n",
    "})\n",
    "\n",
    "# Box Plot\n",
    "df.plot(kind='box', vert=False, color='green')\n",
    "plt.title(\"Box Plot of Scores\")\n",
    "plt.show()\n",
    "\n"
   ]
  },
  {
   "cell_type": "code",
   "execution_count": 80,
   "id": "5df8c514-6e84-418d-98ae-302807622db9",
   "metadata": {},
   "outputs": [
    {
     "data": {
      "image/png": "[encoded data removed]",
      "text/plain": [
       "<Figure size 640x480 with 1 Axes>"
      ]
     },
     "metadata": {},
     "output_type": "display_data"
    }
   ],
   "source": [
    "# 7. Area Plot (area())\n",
    "# Area plots are similar to line plots but the area below the line is filled with color, useful for showing cumulative totals over time.\n",
    "df = pd.DataFrame({\n",
    "    'Year': [2020, 2021, 2022, 2023],\n",
    "    'Sales': [100, 150, 200, 250]\n",
    "})\n",
    "\n",
    "# Area Plot\n",
    "df.plot(x='Year', y='Sales', kind='area', color='skyblue', alpha=0.5)\n",
    "plt.title(\"Sales Area Plot Over the Years\")\n",
    "plt.show()\n",
    "\n"
   ]
  },
  {
   "cell_type": "code",
   "execution_count": 81,
   "id": "e61e554c-8509-4bf7-9c43-8c16b653db14",
   "metadata": {},
   "outputs": [
    {
     "data": {
      "image/png": "[encoded data removed]",
      "text/plain": [
       "<Figure size 640x480 with 2 Axes>"
      ]
     },
     "metadata": {},
     "output_type": "display_data"
    },
    {
     "data": {
      "image/png": "[encoded data removed]",
      "text/plain": [
       "<Figure size 640x480 with 2 Axes>"
      ]
     },
     "metadata": {},
     "output_type": "display_data"
    }
   ],
   "source": [
    "# 8. Hexbin Plot (hexbin())\n",
    "# Hexbin plots are useful for visualizing the density of data points for two continuous variables.\n",
    "import numpy as np\n",
    "\n",
    "# Sample data\n",
    "x = np.random.rand(1000)\n",
    "y = np.random.rand(1000)\n",
    "\n",
    "# Hexbin Plot\n",
    "plt.hexbin(x, y, gridsize=30, cmap='Blues')\n",
    "plt.colorbar(label='Density')\n",
    "plt.title(\"Hexbin Plot of X vs Y\")\n",
    "plt.show()\n",
    "\n",
    "import numpy as np\n",
    "\n",
    "# Sample data\n",
    "x = np.random.rand(1000)\n",
    "y = np.random.rand(1000)\n",
    "\n",
    "# Hexbin Plot\n",
    "plt.hexbin(x, y, gridsize=30, cmap='Blues')\n",
    "plt.colorbar(label='Density')\n",
    "plt.title(\"Hexbin Plot of X vs Y\")\n",
    "plt.show()\n"
   ]
  },
  {
   "cell_type": "code",
   "execution_count": null,
   "id": "bad30ff7-68a0-4a71-90ba-9045c7613883",
   "metadata": {},
   "outputs": [],
   "source": []
  },
  {
   "cell_type": "code",
   "execution_count": 82,
   "id": "6b4c4d3e-7bd3-49ed-bb18-037fffcb7907",
   "metadata": {},
   "outputs": [
    {
     "data": {
      "image/png": "[encoded data removed]",
      "text/plain": [
       "<Figure size 800x600 with 2 Axes>"
      ]
     },
     "metadata": {},
     "output_type": "display_data"
    },
    {
     "data": {
      "image/png": "[encoded data removed]",
      "text/plain": [
       "<Figure size 800x600 with 2 Axes>"
      ]
     },
     "metadata": {},
     "output_type": "display_data"
    }
   ],
   "source": [
    "# 9. Subplots (Multiple Plots)\n",
    "# You can create multiple plots in a single figure by using subplots=True.\n",
    "df = pd.DataFrame({\n",
    "    'Year': [2020, 2021, 2022, 2023],\n",
    "    'Sales': [100, 150, 200, 250],\n",
    "    'Profit': [50, 75, 100, 125]\n",
    "})\n",
    "\n",
    "# Multiple Plots in one figure (subplots)\n",
    "df.plot(x='Year', y='Sales', kind='line', subplots=True, layout=(2,1), figsize=(8,6))\n",
    "df.plot(x='Year', y='Profit', kind='line', subplots=True, layout=(2,1), figsize=(8,6))\n",
    "plt.show()\n"
   ]
  },
  {
   "cell_type": "code",
   "execution_count": null,
   "id": "de11a438-c4c4-4a74-9360-479601ff6aad",
   "metadata": {},
   "outputs": [],
   "source": []
  },
  {
   "cell_type": "code",
   "execution_count": 83,
   "id": "ffc6bd96-1f6f-45f1-81af-70c726569587",
   "metadata": {},
   "outputs": [
    {
     "data": {
      "image/png": "[encoded data removed]",
      "text/plain": [
       "<Figure size 640x480 with 1 Axes>"
      ]
     },
     "metadata": {},
     "output_type": "display_data"
    }
   ],
   "source": [
    "# 10. Customizing Plots\n",
    "# pandas plots can be customized in several ways. For example, you can modify the title, labels, and axis limits, or add grid lines:\n",
    "df = pd.DataFrame({\n",
    "    'Year': [2020, 2021, 2022, 2023],\n",
    "    'Sales': [100, 150, 200, 250]\n",
    "})\n",
    "\n",
    "# Line Plot with customization\n",
    "ax = df.plot(x='Year', y='Sales', kind='line', color='blue', linestyle='-', marker='o')\n",
    "ax.set_title(\"Sales Over the Years\")\n",
    "ax.set_xlabel(\"Year\")\n",
    "ax.set_ylabel(\"Sales\")\n",
    "ax.grid(True)\n",
    "plt.show()\n",
    "\n"
   ]
  },
  {
   "cell_type": "code",
   "execution_count": null,
   "id": "3240a894-1b4b-4d03-b2aa-4d0f67e01685",
   "metadata": {},
   "outputs": [],
   "source": []
  },
  {
   "cell_type": "code",
   "execution_count": 84,
   "id": "d759c580-74d8-4de4-a2b3-9311187b588f",
   "metadata": {},
   "outputs": [
    {
     "data": {
      "image/png": "[encoded data removed]",
      "text/plain": [
       "<Figure size 640x480 with 1 Axes>"
      ]
     },
     "metadata": {},
     "output_type": "display_data"
    }
   ],
   "source": [
    "# 11. Histograms for Multiple Columns\n",
    "# You can create histograms for multiple columns at once.\n",
    "df = pd.DataFrame({\n",
    "    'A': np.random.randn(1000),\n",
    "    'B': np.random.randn(1000)\n",
    "})\n",
    "\n",
    "# Histogram for multiple columns\n",
    "df.plot(kind='hist', bins=20, alpha=0.5)\n",
    "plt.title(\"Histograms of Columns A and B\")\n",
    "plt.show()\n"
   ]
  },
  {
   "cell_type": "code",
   "execution_count": 88,
   "id": "cbfa5d35-48f3-4e22-9eba-e7e27053d537",
   "metadata": {},
   "outputs": [
    {
     "data": {
      "image/png": "[encoded data removed]",
      "text/plain": [
       "<Figure size 640x480 with 2 Axes>"
      ]
     },
     "metadata": {},
     "output_type": "display_data"
    }
   ],
   "source": [
    "# 12. Heatmap Plot (using Seaborn)\n",
    "# If you want to create heatmaps, you need to use seaborn, \n",
    "# a more advanced plotting library built on top of matplotlib. Here's an example of using seaborn to plot a heatmap from a pandas DataFrame:\n",
    "\n",
    "import seaborn as sns\n",
    "\n",
    "# Sample correlation data\n",
    "df = pd.DataFrame({\n",
    "    'A': [1, 2, 3, 4],\n",
    "    'B': [4, 3, 2, 1],\n",
    "    'C': [2, 3, 4, 5]\n",
    "})\n",
    "\n",
    "# Heatmap\n",
    "sns.heatmap(df.corr(), annot=True, cmap='coolwarm')\n",
    "plt.title(\"Correlation Heatmap\")\n",
    "plt.show()\n"
   ]
  },
  {
   "cell_type": "code",
   "execution_count": null,
   "id": "3ef7bf14-0715-4f4f-bdd8-c63d6713068e",
   "metadata": {},
   "outputs": [],
   "source": [
    "\n",
    "\n",
    "\n"
   ]
  }
 ],
 "metadata": {
  "kernelspec": {
   "display_name": "Python 3 (ipykernel)",
   "language": "python",
   "name": "python3"
  },
  "language_info": {
   "codemirror_mode": {
    "name": "ipython",
    "version": 3
   },
   "file_extension": ".py",
   "mimetype": "text/x-python",
   "name": "python",
   "nbconvert_exporter": "python",
   "pygments_lexer": "ipython3",
   "version": "3.11.1"
  }
 },
 "nbformat": 4,
 "nbformat_minor": 5
}
